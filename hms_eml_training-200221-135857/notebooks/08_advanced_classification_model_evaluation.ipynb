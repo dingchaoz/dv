{
  "cells": [
    {
      "metadata": {},
      "cell_type": "markdown",
      "source": "# ADVANCED CLASSIFICATION MODEL EVALUATION"
    },
    {
      "metadata": {},
      "cell_type": "markdown",
      "source": "## AGENDA\n\n- Null accuracy, handling missing values\n- Confusion matrix, sensitivity, specificity, setting a threshold\n- Handling categorical features, interpreting logistic regression coefficients\n- Receiving Operating Characteristic (ROC) curves, Area Under Curve (AUC)"
    },
    {
      "metadata": {},
      "cell_type": "markdown",
      "source": "## PART 1: NULL ACCURACY, HANDLING MISSING VALUES"
    },
    {
      "metadata": {},
      "cell_type": "markdown",
      "source": "### TITANIC CASE STUDY OVERVIEW\n\n- https://www.kaggle.com/c/titanic/data\n- http://trevorstephens.com/post/72916401642/titanic-getting-started-with-r"
    },
    {
      "metadata": {},
      "cell_type": "markdown",
      "source": "#### READ THE DATA FROM TITANIC.CSV INTO A DATAFRAME"
    },
    {
      "metadata": {
        "trusted": false
      },
      "cell_type": "code",
      "source": "%matplotlib inline",
      "execution_count": 1,
      "outputs": []
    },
    {
      "metadata": {
        "trusted": false
      },
      "cell_type": "code",
      "source": "import pandas as pd\ntitanic = pd.read_csv('../data/titanic.csv', index_col='PassengerId')",
      "execution_count": 2,
      "outputs": []
    },
    {
      "metadata": {
        "trusted": false
      },
      "cell_type": "code",
      "source": "titanic.head()",
      "execution_count": 3,
      "outputs": [
        {
          "data": {
            "text/html": "<div>\n<style scoped>\n    .dataframe tbody tr th:only-of-type {\n        vertical-align: middle;\n    }\n\n    .dataframe tbody tr th {\n        vertical-align: top;\n    }\n\n    .dataframe thead th {\n        text-align: right;\n    }\n</style>\n<table border=\"1\" class=\"dataframe\">\n  <thead>\n    <tr style=\"text-align: right;\">\n      <th></th>\n      <th>Survived</th>\n      <th>Pclass</th>\n      <th>Name</th>\n      <th>Sex</th>\n      <th>Age</th>\n      <th>SibSp</th>\n      <th>Parch</th>\n      <th>Ticket</th>\n      <th>Fare</th>\n      <th>Cabin</th>\n      <th>Embarked</th>\n    </tr>\n    <tr>\n      <th>PassengerId</th>\n      <th></th>\n      <th></th>\n      <th></th>\n      <th></th>\n      <th></th>\n      <th></th>\n      <th></th>\n      <th></th>\n      <th></th>\n      <th></th>\n      <th></th>\n    </tr>\n  </thead>\n  <tbody>\n    <tr>\n      <th>1</th>\n      <td>0</td>\n      <td>3</td>\n      <td>Braund, Mr. Owen Harris</td>\n      <td>male</td>\n      <td>22.0</td>\n      <td>1</td>\n      <td>0</td>\n      <td>A/5 21171</td>\n      <td>7.2500</td>\n      <td>NaN</td>\n      <td>S</td>\n    </tr>\n    <tr>\n      <th>2</th>\n      <td>1</td>\n      <td>1</td>\n      <td>Cumings, Mrs. John Bradley (Florence Briggs Th...</td>\n      <td>female</td>\n      <td>38.0</td>\n      <td>1</td>\n      <td>0</td>\n      <td>PC 17599</td>\n      <td>71.2833</td>\n      <td>C85</td>\n      <td>C</td>\n    </tr>\n    <tr>\n      <th>3</th>\n      <td>1</td>\n      <td>3</td>\n      <td>Heikkinen, Miss. Laina</td>\n      <td>female</td>\n      <td>26.0</td>\n      <td>0</td>\n      <td>0</td>\n      <td>STON/O2. 3101282</td>\n      <td>7.9250</td>\n      <td>NaN</td>\n      <td>S</td>\n    </tr>\n    <tr>\n      <th>4</th>\n      <td>1</td>\n      <td>1</td>\n      <td>Futrelle, Mrs. Jacques Heath (Lily May Peel)</td>\n      <td>female</td>\n      <td>35.0</td>\n      <td>1</td>\n      <td>0</td>\n      <td>113803</td>\n      <td>53.1000</td>\n      <td>C123</td>\n      <td>S</td>\n    </tr>\n    <tr>\n      <th>5</th>\n      <td>0</td>\n      <td>3</td>\n      <td>Allen, Mr. William Henry</td>\n      <td>male</td>\n      <td>35.0</td>\n      <td>0</td>\n      <td>0</td>\n      <td>373450</td>\n      <td>8.0500</td>\n      <td>NaN</td>\n      <td>S</td>\n    </tr>\n  </tbody>\n</table>\n</div>",
            "text/plain": "             Survived  Pclass  \\\nPassengerId                     \n1                   0       3   \n2                   1       1   \n3                   1       3   \n4                   1       1   \n5                   0       3   \n\n                                                          Name     Sex   Age  \\\nPassengerId                                                                    \n1                                      Braund, Mr. Owen Harris    male  22.0   \n2            Cumings, Mrs. John Bradley (Florence Briggs Th...  female  38.0   \n3                                       Heikkinen, Miss. Laina  female  26.0   \n4                 Futrelle, Mrs. Jacques Heath (Lily May Peel)  female  35.0   \n5                                     Allen, Mr. William Henry    male  35.0   \n\n             SibSp  Parch            Ticket     Fare Cabin Embarked  \nPassengerId                                                          \n1                1      0         A/5 21171   7.2500   NaN        S  \n2                1      0          PC 17599  71.2833   C85        C  \n3                0      0  STON/O2. 3101282   7.9250   NaN        S  \n4                1      0            113803  53.1000  C123        S  \n5                0      0            373450   8.0500   NaN        S  "
          },
          "execution_count": 3,
          "metadata": {},
          "output_type": "execute_result"
        }
      ]
    },
    {
      "metadata": {
        "trusted": false
      },
      "cell_type": "code",
      "source": "titanic.shape",
      "execution_count": 4,
      "outputs": [
        {
          "data": {
            "text/plain": "(891, 11)"
          },
          "execution_count": 4,
          "metadata": {},
          "output_type": "execute_result"
        }
      ]
    },
    {
      "metadata": {
        "trusted": false
      },
      "cell_type": "code",
      "source": "titanic.info()",
      "execution_count": 5,
      "outputs": [
        {
          "name": "stdout",
          "output_type": "stream",
          "text": "<class 'pandas.core.frame.DataFrame'>\nInt64Index: 891 entries, 1 to 891\nData columns (total 11 columns):\nSurvived    891 non-null int64\nPclass      891 non-null int64\nName        891 non-null object\nSex         891 non-null object\nAge         714 non-null float64\nSibSp       891 non-null int64\nParch       891 non-null int64\nTicket      891 non-null object\nFare        891 non-null float64\nCabin       204 non-null object\nEmbarked    889 non-null object\ndtypes: float64(2), int64(4), object(5)\nmemory usage: 83.5+ KB\n"
        }
      ]
    },
    {
      "metadata": {
        "trusted": false
      },
      "cell_type": "code",
      "source": "549 / 891",
      "execution_count": 12,
      "outputs": [
        {
          "data": {
            "text/plain": "0.6161616161616161"
          },
          "execution_count": 12,
          "metadata": {},
          "output_type": "execute_result"
        }
      ]
    },
    {
      "metadata": {
        "trusted": false
      },
      "cell_type": "code",
      "source": "titanic.Survived.value_counts()",
      "execution_count": 6,
      "outputs": [
        {
          "data": {
            "text/plain": "0    549\n1    342\nName: Survived, dtype: int64"
          },
          "execution_count": 6,
          "metadata": {},
          "output_type": "execute_result"
        }
      ]
    },
    {
      "metadata": {},
      "cell_type": "markdown",
      "source": "#### DEFINE Pclass/Parch AS THE FEATURES AND SURVIVED AS THE RESPONSE"
    },
    {
      "metadata": {
        "trusted": false
      },
      "cell_type": "code",
      "source": "feature_cols = ['Pclass', 'Parch']\nX = titanic[feature_cols]\ny = titanic.Survived",
      "execution_count": 7,
      "outputs": []
    },
    {
      "metadata": {},
      "cell_type": "markdown",
      "source": "#### SPLIT THE DATA INTO TRAINING AND TESTING SETS"
    },
    {
      "metadata": {
        "trusted": false
      },
      "cell_type": "code",
      "source": "from sklearn.model_selection import train_test_split\nX_train, X_test, y_train, y_test = train_test_split(X, y, random_state=1)",
      "execution_count": 8,
      "outputs": []
    },
    {
      "metadata": {
        "trusted": false
      },
      "cell_type": "code",
      "source": "print (titanic.shape)\nprint (X_train.shape)\nprint (X_test.shape)",
      "execution_count": 9,
      "outputs": [
        {
          "name": "stdout",
          "output_type": "stream",
          "text": "(891, 11)\n(668, 2)\n(223, 2)\n"
        }
      ]
    },
    {
      "metadata": {},
      "cell_type": "markdown",
      "source": "#### FIT A LOGISTIC REGRESSION MODEL"
    },
    {
      "metadata": {
        "trusted": false
      },
      "cell_type": "code",
      "source": "from sklearn.linear_model import LogisticRegression\nlogreg = LogisticRegression(C=1e9)\nlogreg.fit(X_train, y_train)",
      "execution_count": 10,
      "outputs": [
        {
          "data": {
            "text/plain": "LogisticRegression(C=1000000000.0, class_weight=None, dual=False,\n          fit_intercept=True, intercept_scaling=1, max_iter=100,\n          multi_class='ovr', n_jobs=1, penalty='l2', random_state=None,\n          solver='liblinear', tol=0.0001, verbose=0, warm_start=False)"
          },
          "execution_count": 10,
          "metadata": {},
          "output_type": "execute_result"
        }
      ]
    },
    {
      "metadata": {},
      "cell_type": "markdown",
      "source": "#### MAKE PREDICTION ON TESTING SET AND CALCULATE ACCURACY"
    },
    {
      "metadata": {
        "trusted": false
      },
      "cell_type": "code",
      "source": "y_pred_class = logreg.predict(X_test)\nfrom sklearn import metrics\nprint (metrics.accuracy_score(y_test, y_pred_class))",
      "execution_count": 11,
      "outputs": [
        {
          "name": "stdout",
          "output_type": "stream",
          "text": "0.6681614349775785\n"
        }
      ]
    },
    {
      "metadata": {},
      "cell_type": "markdown",
      "source": "### WHAT IS NULL ACCURACY? \n\n**Null accuracy** is the accuracy that could be achieved by always predicting the **most frequent class**. It is a baseline against which you may want to measure your classifier."
    },
    {
      "metadata": {
        "trusted": false
      },
      "cell_type": "code",
      "source": "titanic.Survived.value_counts()",
      "execution_count": 13,
      "outputs": [
        {
          "data": {
            "text/plain": "0    549\n1    342\nName: Survived, dtype: int64"
          },
          "execution_count": 13,
          "metadata": {},
          "output_type": "execute_result"
        }
      ]
    },
    {
      "metadata": {
        "trusted": false
      },
      "cell_type": "code",
      "source": "y_test.shape",
      "execution_count": 14,
      "outputs": [
        {
          "data": {
            "text/plain": "(223,)"
          },
          "execution_count": 14,
          "metadata": {},
          "output_type": "execute_result"
        }
      ]
    },
    {
      "metadata": {
        "trusted": false
      },
      "cell_type": "code",
      "source": "import numpy as np\nnp.where(y_test == 1)",
      "execution_count": 15,
      "outputs": [
        {
          "data": {
            "text/plain": "(array([  0,   2,   4,   7,   9,  11,  13,  14,  15,  19,  22,  25,  26,\n         27,  29,  31,  35,  36,  38,  40,  41,  42,  44,  48,  51,  54,\n         55,  63,  64,  65,  66,  67,  76,  79,  80,  84,  89,  93,  97,\n        102, 104, 110, 113, 118, 119, 120, 124, 125, 126, 127, 129, 131,\n        132, 133, 134, 135, 136, 139, 142, 144, 150, 153, 154, 158, 162,\n        163, 165, 166, 167, 170, 172, 174, 178, 179, 180, 181, 183, 184,\n        187, 189, 192, 193, 195, 197, 201, 204, 205, 206, 208, 210, 214,\n        217, 218, 220, 222], dtype=int64),)"
          },
          "execution_count": 15,
          "metadata": {},
          "output_type": "execute_result"
        }
      ]
    },
    {
      "metadata": {
        "trusted": false
      },
      "cell_type": "code",
      "source": "y_test",
      "execution_count": 16,
      "outputs": [
        {
          "data": {
            "text/plain": "PassengerId\n863    1\n224    0\n85     1\n681    0\n536    1\n624    0\n149    0\n4      1\n35     0\n242    1\n795    0\n3      1\n7      0\n18     1\n369    1\n431    1\n820    0\n744    0\n190    0\n438    1\n383    0\n74     0\n711    1\n386    0\n112    0\n822    1\n743    1\n866    1\n620    0\n709    1\n      ..\n876    1\n853    0\n62     1\n278    0\n428    1\n677    0\n494    0\n434    0\n572    1\n774    0\n136    0\n249    1\n346    1\n766    1\n135    0\n508    1\n105    0\n219    1\n851    0\n58     0\n732    0\n544    1\n615    0\n412    0\n308    1\n507    1\n468    0\n741    1\n355    0\n450    1\nName: Survived, Length: 223, dtype: int64"
          },
          "execution_count": 16,
          "metadata": {},
          "output_type": "execute_result"
        }
      ]
    },
    {
      "metadata": {
        "trusted": false
      },
      "cell_type": "code",
      "source": "survived = np.where(y_test == 1)\nprint (survived)\nlen(survived[0])",
      "execution_count": 17,
      "outputs": [
        {
          "name": "stdout",
          "output_type": "stream",
          "text": "(array([  0,   2,   4,   7,   9,  11,  13,  14,  15,  19,  22,  25,  26,\n        27,  29,  31,  35,  36,  38,  40,  41,  42,  44,  48,  51,  54,\n        55,  63,  64,  65,  66,  67,  76,  79,  80,  84,  89,  93,  97,\n       102, 104, 110, 113, 118, 119, 120, 124, 125, 126, 127, 129, 131,\n       132, 133, 134, 135, 136, 139, 142, 144, 150, 153, 154, 158, 162,\n       163, 165, 166, 167, 170, 172, 174, 178, 179, 180, 181, 183, 184,\n       187, 189, 192, 193, 195, 197, 201, 204, 205, 206, 208, 210, 214,\n       217, 218, 220, 222], dtype=int64),)\n"
        },
        {
          "data": {
            "text/plain": "95"
          },
          "execution_count": 17,
          "metadata": {},
          "output_type": "execute_result"
        }
      ]
    },
    {
      "metadata": {
        "trusted": false
      },
      "cell_type": "code",
      "source": "y_test.mean()",
      "execution_count": 18,
      "outputs": [
        {
          "data": {
            "text/plain": "0.4260089686098655"
          },
          "execution_count": 18,
          "metadata": {},
          "output_type": "execute_result"
        }
      ]
    },
    {
      "metadata": {
        "trusted": false
      },
      "cell_type": "code",
      "source": "# compute null accuracy manually\nprint (y_test.mean())\nprint (1 - y_test.mean())",
      "execution_count": 19,
      "outputs": [
        {
          "name": "stdout",
          "output_type": "stream",
          "text": "0.4260089686098655\n0.5739910313901345\n"
        }
      ]
    },
    {
      "metadata": {
        "trusted": false
      },
      "cell_type": "code",
      "source": "# equivalent function in scikit-learn\nfrom sklearn.dummy import DummyClassifier\ndumb = DummyClassifier(strategy='most_frequent')\ndumb.fit(X_train, y_train)\ny_dumb_class = dumb.predict(X_test)\nprint (metrics.accuracy_score(y_test, y_dumb_class))",
      "execution_count": 20,
      "outputs": [
        {
          "name": "stdout",
          "output_type": "stream",
          "text": "0.5739910313901345\n"
        }
      ]
    },
    {
      "metadata": {},
      "cell_type": "markdown",
      "source": "## PART 2: DATA IMPUTATION\n\n### HANDLING MISSING VALUES\n\n* scikit-learn models expect that all values are **numeric** and **hold meaning**. Thus, missing values are not allowed by scikit-learn.\n\n* One possible strategy is to just **DROP MISSING VALUES**"
    },
    {
      "metadata": {
        "trusted": false
      },
      "cell_type": "code",
      "source": "# check for missing values\ntitanic.isnull().sum()",
      "execution_count": 21,
      "outputs": [
        {
          "data": {
            "text/plain": "Survived      0\nPclass        0\nName          0\nSex           0\nAge         177\nSibSp         0\nParch         0\nTicket        0\nFare          0\nCabin       687\nEmbarked      2\ndtype: int64"
          },
          "execution_count": 21,
          "metadata": {},
          "output_type": "execute_result"
        }
      ]
    },
    {
      "metadata": {
        "trusted": false
      },
      "cell_type": "code",
      "source": "# what is the shape of titanic dataset if na's are dropped? Exploring only and not inplace dropping. \n# 183 will be remaining rows\ntitanic.dropna().shape",
      "execution_count": 22,
      "outputs": [
        {
          "data": {
            "text/plain": "(183, 11)"
          },
          "execution_count": 22,
          "metadata": {},
          "output_type": "execute_result"
        }
      ]
    },
    {
      "metadata": {
        "trusted": false
      },
      "cell_type": "code",
      "source": "titanic.shape",
      "execution_count": 24,
      "outputs": [
        {
          "data": {
            "text/plain": "(891, 11)"
          },
          "execution_count": 24,
          "metadata": {},
          "output_type": "execute_result"
        }
      ]
    },
    {
      "metadata": {
        "trusted": false
      },
      "cell_type": "code",
      "source": "titanic[titanic.Age.isnull()].shape",
      "execution_count": 25,
      "outputs": [
        {
          "data": {
            "text/plain": "(177, 11)"
          },
          "execution_count": 25,
          "metadata": {},
          "output_type": "execute_result"
        }
      ]
    },
    {
      "metadata": {
        "trusted": false
      },
      "cell_type": "code",
      "source": "# what is the shape of titanic dataset where Age is not missing?\ntitanic[titanic.Age.notnull()].shape",
      "execution_count": 26,
      "outputs": [
        {
          "data": {
            "text/plain": "(714, 11)"
          },
          "execution_count": 26,
          "metadata": {},
          "output_type": "execute_result"
        }
      ]
    },
    {
      "metadata": {},
      "cell_type": "markdown",
      "source": "#### Fill in the missing values i.e., **IMPUTE MISSING VALUES**:"
    },
    {
      "metadata": {
        "trusted": false
      },
      "cell_type": "code",
      "source": "# fill missing values for Age with the mean age\ntitanic.Age.fillna(titanic.Age.mean(), inplace=True)",
      "execution_count": 27,
      "outputs": []
    },
    {
      "metadata": {
        "trusted": false
      },
      "cell_type": "code",
      "source": "titanic[titanic.Age.isnull()].shape",
      "execution_count": 28,
      "outputs": [
        {
          "data": {
            "text/plain": "(0, 11)"
          },
          "execution_count": 28,
          "metadata": {},
          "output_type": "execute_result"
        }
      ]
    },
    {
      "metadata": {
        "trusted": false
      },
      "cell_type": "code",
      "source": "# equivalent function in scikit-learn, supports mean/median/most_frequent\nfrom sklearn.preprocessing import Imputer\nimp = Imputer(strategy='mean', axis=1)\ntitanic['Age'] = imp.fit_transform([titanic.Age]).T",
      "execution_count": 29,
      "outputs": []
    },
    {
      "metadata": {
        "trusted": false
      },
      "cell_type": "code",
      "source": "# Look up the help\nImputer?",
      "execution_count": 30,
      "outputs": []
    },
    {
      "metadata": {
        "trusted": false
      },
      "cell_type": "code",
      "source": "# include Age as a feature\nfeature_cols = ['Pclass', 'Parch', 'Age']\nX = titanic[feature_cols]\nX_train, X_test, y_train, y_test = train_test_split(X, y, random_state=1)\nlogreg.fit(X_train, y_train)\ny_pred_class = logreg.predict(X_test)\nprint (metrics.accuracy_score(y_test, y_pred_class))",
      "execution_count": 31,
      "outputs": [
        {
          "name": "stdout",
          "output_type": "stream",
          "text": "0.672645739910314\n"
        }
      ]
    },
    {
      "metadata": {},
      "cell_type": "markdown",
      "source": "## PART 3: CONFUSION MATRIX\n-- Follow the lecture slides"
    },
    {
      "metadata": {
        "trusted": false
      },
      "cell_type": "code",
      "source": "# confusion matrix\nmetrics.confusion_matrix(y_test, y_pred_class)",
      "execution_count": 32,
      "outputs": [
        {
          "data": {
            "text/plain": "array([[107,  21],\n       [ 52,  43]], dtype=int64)"
          },
          "execution_count": 32,
          "metadata": {},
          "output_type": "execute_result"
        }
      ]
    },
    {
      "metadata": {
        "trusted": false
      },
      "cell_type": "code",
      "source": "# calculate the sensitivity\n43 / float(52 + 43)",
      "execution_count": 33,
      "outputs": [
        {
          "data": {
            "text/plain": "0.45263157894736844"
          },
          "execution_count": 33,
          "metadata": {},
          "output_type": "execute_result"
        }
      ]
    },
    {
      "metadata": {
        "trusted": false
      },
      "cell_type": "code",
      "source": "# calculate the specificity\n107 / float(107 + 21)",
      "execution_count": 34,
      "outputs": [
        {
          "data": {
            "text/plain": "0.8359375"
          },
          "execution_count": 34,
          "metadata": {},
          "output_type": "execute_result"
        }
      ]
    },
    {
      "metadata": {
        "trusted": false
      },
      "cell_type": "code",
      "source": "y_test.shape",
      "execution_count": 35,
      "outputs": [
        {
          "data": {
            "text/plain": "(223,)"
          },
          "execution_count": 35,
          "metadata": {},
          "output_type": "execute_result"
        }
      ]
    },
    {
      "metadata": {
        "trusted": false
      },
      "cell_type": "code",
      "source": "pd.crosstab(y_test, y_pred_class, rownames=['True'], colnames=['Predicted'], margins=True)",
      "execution_count": 36,
      "outputs": [
        {
          "data": {
            "text/html": "<div>\n<style scoped>\n    .dataframe tbody tr th:only-of-type {\n        vertical-align: middle;\n    }\n\n    .dataframe tbody tr th {\n        vertical-align: top;\n    }\n\n    .dataframe thead th {\n        text-align: right;\n    }\n</style>\n<table border=\"1\" class=\"dataframe\">\n  <thead>\n    <tr style=\"text-align: right;\">\n      <th>Predicted</th>\n      <th>0</th>\n      <th>1</th>\n      <th>All</th>\n    </tr>\n    <tr>\n      <th>True</th>\n      <th></th>\n      <th></th>\n      <th></th>\n    </tr>\n  </thead>\n  <tbody>\n    <tr>\n      <th>0</th>\n      <td>107</td>\n      <td>21</td>\n      <td>128</td>\n    </tr>\n    <tr>\n      <th>1</th>\n      <td>52</td>\n      <td>43</td>\n      <td>95</td>\n    </tr>\n    <tr>\n      <th>All</th>\n      <td>159</td>\n      <td>64</td>\n      <td>223</td>\n    </tr>\n  </tbody>\n</table>\n</div>",
            "text/plain": "Predicted    0   1  All\nTrue                   \n0          107  21  128\n1           52  43   95\nAll        159  64  223"
          },
          "execution_count": 36,
          "metadata": {},
          "output_type": "execute_result"
        }
      ]
    },
    {
      "metadata": {},
      "cell_type": "markdown",
      "source": "This allows us to see that:\n\n- The diagonal elements show the number of correct classifications for each class: 0, and 1.\n- The off-diagonal elements provides the misclassifications: for example, 21 and 52. \n- The total number of classifications for each class in both y_test and y_pred_class from the \"All\" subtotals"
    },
    {
      "metadata": {
        "trusted": false
      },
      "cell_type": "code",
      "source": "logreg.predict_proba(X_test)",
      "execution_count": 37,
      "outputs": [
        {
          "data": {
            "text/plain": "array([[0.47498169, 0.52501831],\n       [0.80897755, 0.19102245],\n       [0.47270882, 0.52729118],\n       [0.80897755, 0.19102245],\n       [0.27271226, 0.72728774],\n       [0.75629647, 0.24370353],\n       [0.51834188, 0.48165812],\n       [0.36244541, 0.63755459],\n       [0.30683877, 0.69316123],\n       [0.80897755, 0.19102245],\n       [0.78167217, 0.21832783],\n       [0.78771002, 0.21228998],\n       [0.52853847, 0.47146153],\n       [0.58530324, 0.41469676],\n       [0.80897755, 0.19102245],\n       [0.30683877, 0.69316123],\n       [0.55604111, 0.44395889],\n       [0.77551153, 0.22448847],\n       [0.84138487, 0.15861513],\n       [0.34740645, 0.65259355],\n       [0.82136336, 0.17863664],\n       [0.78771002, 0.21228998],\n       [0.27729948, 0.72270052],\n       [0.48162474, 0.51837526],\n       [0.71098576, 0.28901424],\n       [0.79362497, 0.20637503],\n       [0.17088695, 0.82911305],\n       [0.68658585, 0.31341415],\n       [0.55289611, 0.44710389],\n       [0.26320525, 0.73679475],\n       [0.76282315, 0.23717685],\n       [0.31990353, 0.68009647],\n       [0.62015029, 0.37984971],\n       [0.78167217, 0.21832783],\n       [0.86168961, 0.13831039],\n       [0.51160152, 0.48839848],\n       [0.37074388, 0.62925612],\n       [0.80897755, 0.19102245],\n       [0.28451845, 0.71548155],\n       [0.74964913, 0.25035087],\n       [0.79362497, 0.20637503],\n       [0.69692047, 0.30307953],\n       [0.40299147, 0.59700853],\n       [0.45276507, 0.54723493],\n       [0.23230526, 0.76769474],\n       [0.83655686, 0.16344314],\n       [0.56484509, 0.43515491],\n       [0.66306619, 0.33693381],\n       [0.36244541, 0.63755459],\n       [0.46381027, 0.53618973],\n       [0.58530324, 0.41469676],\n       [0.50842003, 0.49157997],\n       [0.49055237, 0.50944763],\n       [0.63871029, 0.36128971],\n       [0.80508657, 0.19491343],\n       [0.77551153, 0.22448847],\n       [0.57922595, 0.42077405],\n       [0.59011777, 0.40988223],\n       [0.62015029, 0.37984971],\n       [0.74964913, 0.25035087],\n       [0.71690083, 0.28309917],\n       [0.80897755, 0.19102245],\n       [0.50668398, 0.49331602],\n       [0.4483414 , 0.5516586 ],\n       [0.29929036, 0.70070964],\n       [0.71180248, 0.28819752],\n       [0.69838557, 0.30161443],\n       [0.78771002, 0.21228998],\n       [0.5489222 , 0.4510778 ],\n       [0.63710594, 0.36289406],\n       [0.77551153, 0.22448847],\n       [0.6513973 , 0.3486027 ],\n       [0.45719622, 0.54280378],\n       [0.80897755, 0.19102245],\n       [0.7892305 , 0.2107695 ],\n       [0.53343877, 0.46656123],\n       [0.36244541, 0.63755459],\n       [0.80897755, 0.19102245],\n       [0.56395642, 0.43604358],\n       [0.22377346, 0.77622654],\n       [0.78771002, 0.21228998],\n       [0.71690083, 0.28309917],\n       [0.80897755, 0.19102245],\n       [0.8316113 , 0.1683887 ],\n       [0.52626621, 0.47373379],\n       [0.80508657, 0.19491343],\n       [0.80897755, 0.19102245],\n       [0.80897755, 0.19102245],\n       [0.52052685, 0.47947315],\n       [0.5879109 , 0.4120891 ],\n       [0.46607818, 0.53392182],\n       [0.80897755, 0.19102245],\n       [0.78167217, 0.21832783],\n       [0.80897755, 0.19102245],\n       [0.80897755, 0.19102245],\n       [0.32224759, 0.67775241],\n       [0.92347804, 0.07652196],\n       [0.80897755, 0.19102245],\n       [0.74288211, 0.25711789],\n       [0.80897755, 0.19102245],\n       [0.31990353, 0.68009647],\n       [0.38756754, 0.61243246],\n       [0.76607154, 0.23392846],\n       [0.68311917, 0.31688083],\n       [0.18228684, 0.81771316],\n       [0.76922838, 0.23077162],\n       [0.80508657, 0.19491343],\n       [0.80508657, 0.19491343],\n       [0.59266967, 0.40733033],\n       [0.86795573, 0.13204427],\n       [0.48390114, 0.51609886],\n       [0.76282315, 0.23717685],\n       [0.73079126, 0.26920874],\n       [0.78167217, 0.21832783],\n       [0.52626621, 0.47373379],\n       [0.82654713, 0.17345287],\n       [0.57922595, 0.42077405],\n       [0.33010223, 0.66989777],\n       [0.63871029, 0.36128971],\n       [0.81605916, 0.18394084],\n       [0.57049168, 0.42950832],\n       [0.44662411, 0.55337589],\n       [0.80897755, 0.19102245],\n       [0.48162474, 0.51837526],\n       [0.22759125, 0.77240875],\n       [0.2429465 , 0.7570535 ],\n       [0.57049168, 0.42950832],\n       [0.76282315, 0.23717685],\n       [0.71690083, 0.28309917],\n       [0.80897755, 0.19102245],\n       [0.77551153, 0.22448847],\n       [0.87593452, 0.12406548],\n       [0.53783825, 0.46216175],\n       [0.29929036, 0.70070964],\n       [0.82654713, 0.17345287],\n       [0.56395642, 0.43604358],\n       [0.15622722, 0.84377278],\n       [0.47588317, 0.52411683],\n       [0.7359966 , 0.2640034 ],\n       [0.76922838, 0.23077162],\n       [0.19210382, 0.80789618],\n       [0.85517574, 0.14482426],\n       [0.13829446, 0.86170554],\n       [0.80897755, 0.19102245],\n       [0.80897755, 0.19102245],\n       [0.7359966 , 0.2640034 ],\n       [0.59654145, 0.40345855],\n       [0.80897755, 0.19102245],\n       [0.62015029, 0.37984971],\n       [0.76282315, 0.23717685],\n       [0.5489222 , 0.4510778 ],\n       [0.89408629, 0.10591371],\n       [0.5489222 , 0.4510778 ],\n       [0.76282315, 0.23717685],\n       [0.80897755, 0.19102245],\n       [0.82136336, 0.17863664],\n       [0.76282315, 0.23717685],\n       [0.86795573, 0.13204427],\n       [0.5617133 , 0.4382867 ],\n       [0.52626621, 0.47373379],\n       [0.64691589, 0.35308411],\n       [0.79941709, 0.20058291],\n       [0.75629647, 0.24370353],\n       [0.30683877, 0.69316123],\n       [0.78771002, 0.21228998],\n       [0.7146438 , 0.2853562 ],\n       [0.47097787, 0.52902213],\n       [0.80897755, 0.19102245],\n       [0.72187577, 0.27812423],\n       [0.43610005, 0.56389995],\n       [0.36244541, 0.63755459],\n       [0.48480391, 0.51519609],\n       [0.32224759, 0.67775241],\n       [0.68311917, 0.31688083],\n       [0.48390114, 0.51609886],\n       [0.31990353, 0.68009647],\n       [0.80897755, 0.19102245],\n       [0.75629647, 0.24370353],\n       [0.5753063 , 0.4246937 ],\n       [0.80897755, 0.19102245],\n       [0.32224759, 0.67775241],\n       [0.62205797, 0.37794203],\n       [0.50842003, 0.49157997],\n       [0.81742366, 0.18257634],\n       [0.31449211, 0.68550789],\n       [0.48162474, 0.51837526],\n       [0.80897755, 0.19102245],\n       [0.15622722, 0.84377278],\n       [0.80897755, 0.19102245],\n       [0.43951921, 0.56048079],\n       [0.31990353, 0.68009647],\n       [0.4483414 , 0.5516586 ],\n       [0.80897755, 0.19102245],\n       [0.7146438 , 0.2853562 ],\n       [0.60980463, 0.39019537],\n       [0.38756754, 0.61243246],\n       [0.58530324, 0.41469676],\n       [0.49055237, 0.50944763],\n       [0.77860718, 0.22139282],\n       [0.67301293, 0.32698707],\n       [0.72899396, 0.27100604],\n       [0.51962465, 0.48037535],\n       [0.80897755, 0.19102245],\n       [0.52626621, 0.47373379],\n       [0.32073248, 0.67926752],\n       [0.53516704, 0.46483296],\n       [0.50176514, 0.49823486],\n       [0.54404553, 0.45595447],\n       [0.31990353, 0.68009647],\n       [0.8460965 , 0.1539035 ],\n       [0.33805284, 0.66194716],\n       [0.50266879, 0.49733121],\n       [0.80226714, 0.19773286],\n       [0.68462079, 0.31537921],\n       [0.60511266, 0.39488734],\n       [0.83655686, 0.16344314],\n       [0.80897755, 0.19102245],\n       [0.23004254, 0.76995746],\n       [0.48708122, 0.51291878],\n       [0.54630603, 0.45369397],\n       [0.31990353, 0.68009647],\n       [0.80897755, 0.19102245],\n       [0.51069831, 0.48930169]])"
          },
          "execution_count": 37,
          "metadata": {},
          "output_type": "execute_result"
        }
      ]
    },
    {
      "metadata": {
        "trusted": false
      },
      "cell_type": "code",
      "source": "# store the predicted probabilities\ny_pred_prob = logreg.predict_proba(X_test)[:, 1]",
      "execution_count": 38,
      "outputs": []
    },
    {
      "metadata": {
        "trusted": false
      },
      "cell_type": "code",
      "source": "y_pred_prob",
      "execution_count": 39,
      "outputs": [
        {
          "data": {
            "text/plain": "array([0.52501831, 0.19102245, 0.52729118, 0.19102245, 0.72728774,\n       0.24370353, 0.48165812, 0.63755459, 0.69316123, 0.19102245,\n       0.21832783, 0.21228998, 0.47146153, 0.41469676, 0.19102245,\n       0.69316123, 0.44395889, 0.22448847, 0.15861513, 0.65259355,\n       0.17863664, 0.21228998, 0.72270052, 0.51837526, 0.28901424,\n       0.20637503, 0.82911305, 0.31341415, 0.44710389, 0.73679475,\n       0.23717685, 0.68009647, 0.37984971, 0.21832783, 0.13831039,\n       0.48839848, 0.62925612, 0.19102245, 0.71548155, 0.25035087,\n       0.20637503, 0.30307953, 0.59700853, 0.54723493, 0.76769474,\n       0.16344314, 0.43515491, 0.33693381, 0.63755459, 0.53618973,\n       0.41469676, 0.49157997, 0.50944763, 0.36128971, 0.19491343,\n       0.22448847, 0.42077405, 0.40988223, 0.37984971, 0.25035087,\n       0.28309917, 0.19102245, 0.49331602, 0.5516586 , 0.70070964,\n       0.28819752, 0.30161443, 0.21228998, 0.4510778 , 0.36289406,\n       0.22448847, 0.3486027 , 0.54280378, 0.19102245, 0.2107695 ,\n       0.46656123, 0.63755459, 0.19102245, 0.43604358, 0.77622654,\n       0.21228998, 0.28309917, 0.19102245, 0.1683887 , 0.47373379,\n       0.19491343, 0.19102245, 0.19102245, 0.47947315, 0.4120891 ,\n       0.53392182, 0.19102245, 0.21832783, 0.19102245, 0.19102245,\n       0.67775241, 0.07652196, 0.19102245, 0.25711789, 0.19102245,\n       0.68009647, 0.61243246, 0.23392846, 0.31688083, 0.81771316,\n       0.23077162, 0.19491343, 0.19491343, 0.40733033, 0.13204427,\n       0.51609886, 0.23717685, 0.26920874, 0.21832783, 0.47373379,\n       0.17345287, 0.42077405, 0.66989777, 0.36128971, 0.18394084,\n       0.42950832, 0.55337589, 0.19102245, 0.51837526, 0.77240875,\n       0.7570535 , 0.42950832, 0.23717685, 0.28309917, 0.19102245,\n       0.22448847, 0.12406548, 0.46216175, 0.70070964, 0.17345287,\n       0.43604358, 0.84377278, 0.52411683, 0.2640034 , 0.23077162,\n       0.80789618, 0.14482426, 0.86170554, 0.19102245, 0.19102245,\n       0.2640034 , 0.40345855, 0.19102245, 0.37984971, 0.23717685,\n       0.4510778 , 0.10591371, 0.4510778 , 0.23717685, 0.19102245,\n       0.17863664, 0.23717685, 0.13204427, 0.4382867 , 0.47373379,\n       0.35308411, 0.20058291, 0.24370353, 0.69316123, 0.21228998,\n       0.2853562 , 0.52902213, 0.19102245, 0.27812423, 0.56389995,\n       0.63755459, 0.51519609, 0.67775241, 0.31688083, 0.51609886,\n       0.68009647, 0.19102245, 0.24370353, 0.4246937 , 0.19102245,\n       0.67775241, 0.37794203, 0.49157997, 0.18257634, 0.68550789,\n       0.51837526, 0.19102245, 0.84377278, 0.19102245, 0.56048079,\n       0.68009647, 0.5516586 , 0.19102245, 0.2853562 , 0.39019537,\n       0.61243246, 0.41469676, 0.50944763, 0.22139282, 0.32698707,\n       0.27100604, 0.48037535, 0.19102245, 0.47373379, 0.67926752,\n       0.46483296, 0.49823486, 0.45595447, 0.68009647, 0.1539035 ,\n       0.66194716, 0.49733121, 0.19773286, 0.31537921, 0.39488734,\n       0.16344314, 0.19102245, 0.76995746, 0.51291878, 0.45369397,\n       0.68009647, 0.19102245, 0.48930169])"
          },
          "execution_count": 39,
          "metadata": {},
          "output_type": "execute_result"
        }
      ]
    },
    {
      "metadata": {
        "trusted": false
      },
      "cell_type": "code",
      "source": "# plot the predicted probabilities\nimport matplotlib.pyplot as plt\nplt.hist(y_pred_prob)\nplt.xlabel('Predicted probability of survival')\nplt.ylabel('Frequency')",
      "execution_count": 40,
      "outputs": [
        {
          "data": {
            "text/plain": "Text(0,0.5,'Frequency')"
          },
          "execution_count": 40,
          "metadata": {},
          "output_type": "execute_result"
        },
        {
          "data": {
            "image/png": "[encoded data removed]",
            "text/plain": "<Figure size 432x288 with 1 Axes>"
          },
          "metadata": {
            "needs_background": "light"
          },
          "output_type": "display_data"
        }
      ]
    },
    {
      "metadata": {
        "trusted": false
      },
      "cell_type": "code",
      "source": "# change the threshold for predicting survived to increase sensitivity\nimport numpy as np\ny_pred_class = np.where(y_pred_prob > 0.25, 1, 0)",
      "execution_count": 41,
      "outputs": []
    },
    {
      "metadata": {
        "trusted": false
      },
      "cell_type": "code",
      "source": "# equivalent function in scikit-learn\nfrom sklearn.preprocessing import binarize\n#y_pred_class = binarize(y_pred_prob, 0.25)\ny_pred_class = binarize(y_pred_prob.reshape(1, -1), 0.25)",
      "execution_count": 42,
      "outputs": []
    },
    {
      "metadata": {
        "trusted": false
      },
      "cell_type": "code",
      "source": "# new confusion matrix. Columns=Predicted NO, YES; Row=Actual NO, YES. \n# sensitivity = True Positive / Actual YES\n# specificity = True Negative / Actual NO\nprint (metrics.confusion_matrix(y_test[0:], y_pred_class[0]))",
      "execution_count": 43,
      "outputs": [
        {
          "name": "stdout",
          "output_type": "stream",
          "text": "[[57 71]\n [27 68]]\n"
        }
      ]
    },
    {
      "metadata": {
        "trusted": false
      },
      "cell_type": "code",
      "source": "# new sensitivity\nprint (68 / float(27 + 68))",
      "execution_count": 44,
      "outputs": [
        {
          "name": "stdout",
          "output_type": "stream",
          "text": "0.7157894736842105\n"
        }
      ]
    },
    {
      "metadata": {
        "trusted": false
      },
      "cell_type": "code",
      "source": "# new specificity\nprint (57 / float(57 + 71))",
      "execution_count": 45,
      "outputs": [
        {
          "name": "stdout",
          "output_type": "stream",
          "text": "0.4453125\n"
        }
      ]
    },
    {
      "metadata": {
        "trusted": false
      },
      "cell_type": "code",
      "source": "metrics.roc_auc_score(y_test[0:], y_pred_class[0], average='macro', sample_weight=None)",
      "execution_count": 46,
      "outputs": [
        {
          "data": {
            "text/plain": "0.5805509868421053"
          },
          "execution_count": 46,
          "metadata": {},
          "output_type": "execute_result"
        }
      ]
    },
    {
      "metadata": {
        "trusted": false
      },
      "cell_type": "code",
      "source": "pd.crosstab(y_test[0:], y_pred_class[0], rownames=['True'], colnames=['Predicted'], margins=True)",
      "execution_count": 47,
      "outputs": [
        {
          "data": {
            "text/html": "<div>\n<style scoped>\n    .dataframe tbody tr th:only-of-type {\n        vertical-align: middle;\n    }\n\n    .dataframe tbody tr th {\n        vertical-align: top;\n    }\n\n    .dataframe thead th {\n        text-align: right;\n    }\n</style>\n<table border=\"1\" class=\"dataframe\">\n  <thead>\n    <tr style=\"text-align: right;\">\n      <th>Predicted</th>\n      <th>0.0</th>\n      <th>1.0</th>\n      <th>All</th>\n    </tr>\n    <tr>\n      <th>True</th>\n      <th></th>\n      <th></th>\n      <th></th>\n    </tr>\n  </thead>\n  <tbody>\n    <tr>\n      <th>0</th>\n      <td>57</td>\n      <td>71</td>\n      <td>128</td>\n    </tr>\n    <tr>\n      <th>1</th>\n      <td>27</td>\n      <td>68</td>\n      <td>95</td>\n    </tr>\n    <tr>\n      <th>All</th>\n      <td>84</td>\n      <td>139</td>\n      <td>223</td>\n    </tr>\n  </tbody>\n</table>\n</div>",
            "text/plain": "Predicted  0.0  1.0  All\nTrue                    \n0           57   71  128\n1           27   68   95\nAll         84  139  223"
          },
          "execution_count": 47,
          "metadata": {},
          "output_type": "execute_result"
        }
      ]
    },
    {
      "metadata": {},
      "cell_type": "markdown",
      "source": "## PRECISION RECALL TRADEOFF\n### Little bit of Python Code"
    },
    {
      "metadata": {
        "trusted": false
      },
      "cell_type": "code",
      "source": "tn, fp, fn, tp = metrics.confusion_matrix(y_test[0:], y_pred_class[0]).ravel()",
      "execution_count": 48,
      "outputs": []
    },
    {
      "metadata": {
        "trusted": false
      },
      "cell_type": "code",
      "source": "# Precision = Positive Predictive Value = TP / (TP + FP)\nfloat(tp) / float(tp + fp)",
      "execution_count": 49,
      "outputs": [
        {
          "data": {
            "text/plain": "0.4892086330935252"
          },
          "execution_count": 49,
          "metadata": {},
          "output_type": "execute_result"
        }
      ]
    },
    {
      "metadata": {
        "trusted": false
      },
      "cell_type": "code",
      "source": "metrics.precision_score(y_test[0:], y_pred_class[0])",
      "execution_count": 50,
      "outputs": [
        {
          "data": {
            "text/plain": "0.4892086330935252"
          },
          "execution_count": 50,
          "metadata": {},
          "output_type": "execute_result"
        }
      ]
    },
    {
      "metadata": {
        "trusted": false
      },
      "cell_type": "code",
      "source": "# Recall = TP / P = TP / (TP + FN)\nfloat(tp) / float(tp + fn)",
      "execution_count": 51,
      "outputs": [
        {
          "data": {
            "text/plain": "0.7157894736842105"
          },
          "execution_count": 51,
          "metadata": {},
          "output_type": "execute_result"
        }
      ]
    },
    {
      "metadata": {
        "trusted": false
      },
      "cell_type": "code",
      "source": "metrics.recall_score(y_test[0:], y_pred_class[0])",
      "execution_count": 52,
      "outputs": [
        {
          "data": {
            "text/plain": "0.7157894736842105"
          },
          "execution_count": 52,
          "metadata": {},
          "output_type": "execute_result"
        }
      ]
    },
    {
      "metadata": {
        "trusted": false
      },
      "cell_type": "code",
      "source": "# BUILT OFF OF - https://www.kaggle.com/joparga3/in-depth-skewed-data-classif-93-recall-acc-now\n\nimport itertools\n\ndef plot_confusion_matrix(cm, classes,\n                          normalize=False,\n                          title='Confusion matrix',\n                          cmap=plt.cm.Blues):\n    \"\"\"\n    This function prints and plots the confusion matrix.\n    Normalization can be applied by setting `normalize=True`.\n    \"\"\"\n    plt.imshow(cm, interpolation='nearest', cmap=cmap)\n    plt.title(title)\n    plt.colorbar()\n    tick_marks = np.arange(len(classes))\n    plt.xticks(tick_marks, classes, rotation=0)\n    plt.yticks(tick_marks, classes)\n\n    if normalize:\n        cm = cm.astype('float') / cm.sum(axis=1)[:, np.newaxis]\n\n    thresh = cm.max() / 2.\n    for i, j in itertools.product(range(cm.shape[0]), range(cm.shape[1])):\n        plt.text(j, i, cm[i, j],\n                 horizontalalignment=\"center\",\n                 color=\"white\" if cm[i, j] > thresh else \"black\")\n\n    plt.tight_layout()\n    plt.ylabel('True label')\n    plt.xlabel('Predicted label')",
      "execution_count": 53,
      "outputs": []
    },
    {
      "metadata": {
        "trusted": false
      },
      "cell_type": "code",
      "source": "logreg2 = LogisticRegression(C= 0.01, penalty='l1')\nlogreg2.fit(X_train, y_train)\ny_pred_proba2 = logreg2.predict_proba(X_test)\n\nthresholds = [0.1, 0.2, 0.3, 0.4, 0.5, 0.6, 0.7, 0.8, 0.9]\n\nplt.figure(figsize=(10,10))\n\nj = 1\n\nfor i in thresholds:\n    y_test_predictions_high_recall = y_pred_proba2[:, 1] > i\n    \n    plt.subplot(3, 3, j)\n    j += 1\n    \n    # Compute confusion matrix\n    cnf_matrix = metrics.confusion_matrix(y_test, y_test_predictions_high_recall)\n    np.set_printoptions(precision=2)\n\n    print(\"Recall metric in the testing dataset: \", float(cnf_matrix[1,1]) / float((cnf_matrix[1,0] + cnf_matrix[1,1])))\n\n    # Plot non-normalized confusion matrix\n    class_names = [0, 1]\n    plot_confusion_matrix(cnf_matrix, classes=class_names, title='Threshold >= %s'%i) ",
      "execution_count": 54,
      "outputs": [
        {
          "name": "stdout",
          "output_type": "stream",
          "text": "Recall metric in the testing dataset:  1.0\nRecall metric in the testing dataset:  1.0\nRecall metric in the testing dataset:  0.9894736842105263\nRecall metric in the testing dataset:  0.23157894736842105\nRecall metric in the testing dataset:  0.0\nRecall metric in the testing dataset:  0.0\nRecall metric in the testing dataset:  0.0\nRecall metric in the testing dataset:  0.0\nRecall metric in the testing dataset:  0.0\n"
        },
        {
          "data": {
            "image/png": "[encoded data removed]",
            "text/plain": "<Figure size 720x720 with 18 Axes>"
          },
          "metadata": {
            "needs_background": "light"
          },
          "output_type": "display_data"
        }
      ]
    },
    {
      "metadata": {
        "trusted": false
      },
      "cell_type": "code",
      "source": "import seaborn as sns\nconf = metrics.confusion_matrix(y_test[0:], y_pred_class[0])\nsns.heatmap(conf, annot=True, fmt=\"d\", linewidths=.5)",
      "execution_count": 55,
      "outputs": [
        {
          "data": {
            "text/plain": "<matplotlib.axes._subplots.AxesSubplot at 0x2743d529550>"
          },
          "execution_count": 55,
          "metadata": {},
          "output_type": "execute_result"
        },
        {
          "data": {
            "image/png": "[encoded data removed]",
            "text/plain": "<Figure size 432x288 with 2 Axes>"
          },
          "metadata": {
            "needs_background": "light"
          },
          "output_type": "display_data"
        }
      ]
    },
    {
      "metadata": {},
      "cell_type": "markdown",
      "source": "## PART 4: HANDLING CATEGORICAL FEATURES"
    },
    {
      "metadata": {},
      "cell_type": "markdown",
      "source": "### scikit-learn expects all features to be numeric. So how do we include a categorical feature in our model?\n- **Ordered categories:** transform them to sensible numeric values (example: small=1, medium=2, large=3)\n- **Unordered categories:** use dummy encoding\n\n**Pclass** is an ordered categorical feature, and is already encoded as 1/2/3, so we leave it as-is.\n\n**Sex** is an unordered categorical feature, and needs to be dummy encoded."
    },
    {
      "metadata": {},
      "cell_type": "markdown",
      "source": "### DUMMY ENCODING WITH TWO LEVELS"
    },
    {
      "metadata": {
        "trusted": false
      },
      "cell_type": "code",
      "source": "# encode Sex_Female feature\ntitanic['Sex_Female'] = titanic.Sex.map({'male':0, 'female':1})",
      "execution_count": 56,
      "outputs": []
    },
    {
      "metadata": {
        "trusted": false
      },
      "cell_type": "code",
      "source": "# include Sex_Female in the model\nfeature_cols = ['Pclass', 'Parch', 'Age', 'Sex_Female']\nX = titanic[feature_cols]\nX_train, X_test, y_train, y_test = train_test_split(X, y, random_state=1)\nlogreg=LogisticRegression(C=1e9)\nlogreg.fit(X_train, y_train)",
      "execution_count": 57,
      "outputs": [
        {
          "data": {
            "text/plain": "LogisticRegression(C=1000000000.0, class_weight=None, dual=False,\n          fit_intercept=True, intercept_scaling=1, max_iter=100,\n          multi_class='ovr', n_jobs=1, penalty='l2', random_state=None,\n          solver='liblinear', tol=0.0001, verbose=0, warm_start=False)"
          },
          "execution_count": 57,
          "metadata": {},
          "output_type": "execute_result"
        }
      ]
    },
    {
      "metadata": {
        "trusted": false
      },
      "cell_type": "code",
      "source": "#### Logistic regression coefficients\ndict(zip(feature_cols, logreg.coef_[0]))",
      "execution_count": 58,
      "outputs": [
        {
          "data": {
            "text/plain": "{'Pclass': -1.2209320924677813,\n 'Parch': -0.11739489102815388,\n 'Age': -0.040484287099400725,\n 'Sex_Female': 2.6815252123098956}"
          },
          "execution_count": 58,
          "metadata": {},
          "output_type": "execute_result"
        }
      ]
    },
    {
      "metadata": {},
      "cell_type": "markdown",
      "source": "# $$\\log \\left({p\\over 1-p}\\right) = \\beta_0 + \\beta_1x_1 + \\beta_2x_2 + \\beta_3x_3 + \\beta_4x_4$$"
    },
    {
      "metadata": {
        "trusted": false
      },
      "cell_type": "code",
      "source": "# convert log-odds to odds\ndict(zip(feature_cols, np.exp(logreg.coef_[0])))",
      "execution_count": 59,
      "outputs": [
        {
          "data": {
            "text/plain": "{'Pclass': 0.2949551133167741,\n 'Parch': 0.8892339733032025,\n 'Age': 0.960324253872408,\n 'Sex_Female': 14.607355632796109}"
          },
          "execution_count": 59,
          "metadata": {},
          "output_type": "execute_result"
        }
      ]
    },
    {
      "metadata": {
        "trusted": false
      },
      "cell_type": "code",
      "source": "### example of reshaping a list of items\nresh = np.array([1, 0, 29, 0])\nresh.reshape(1, -1)",
      "execution_count": 60,
      "outputs": [
        {
          "data": {
            "text/plain": "array([[ 1,  0, 29,  0]])"
          },
          "execution_count": 60,
          "metadata": {},
          "output_type": "execute_result"
        }
      ]
    },
    {
      "metadata": {
        "trusted": false
      },
      "cell_type": "code",
      "source": "test_data = [[ 1,  0, 29,  0]]\nlogreg.predict_proba(test_data)[:, 1]",
      "execution_count": null,
      "outputs": []
    },
    {
      "metadata": {
        "trusted": false
      },
      "cell_type": "code",
      "source": "# Predict probability of survival for **Adam**: first class, no parents or kids, 29 years old, male.\ntest_data = np.array([1, 0, 29, 0])\ntest_data = test_data.reshape(1, -1)\nlogreg.predict_proba(test_data)[:, 1]",
      "execution_count": 61,
      "outputs": [
        {
          "data": {
            "text/plain": "array([0.5])"
          },
          "execution_count": 61,
          "metadata": {},
          "output_type": "execute_result"
        }
      ]
    },
    {
      "metadata": {},
      "cell_type": "markdown",
      "source": "### PART 5: COEFFICIENT INTERPRETATION\n\n#### INTERPRETING THE Pclass COEFFICIENT"
    },
    {
      "metadata": {
        "trusted": false
      },
      "cell_type": "code",
      "source": "# Predict probability of survival for **Bill**: same as Adam, except second class.\ntest_data = [[2, 0, 29, 0]]\nlogreg.predict_proba(test_data)[:, 1]",
      "execution_count": 64,
      "outputs": [
        {
          "data": {
            "text/plain": "array([0.23])"
          },
          "execution_count": 64,
          "metadata": {},
          "output_type": "execute_result"
        }
      ]
    },
    {
      "metadata": {},
      "cell_type": "markdown",
      "source": "#### How could we have calculated that change ourselves using the coefficients?\n\n# $$odds = \\frac {probability} {1 - probability}$$\n# $$probability = \\frac {odds} {1 + odds}$$"
    },
    {
      "metadata": {
        "trusted": false
      },
      "cell_type": "code",
      "source": "# convert Adam's probability to odds\nadamodds = 0.5/(1 - 0.5)",
      "execution_count": 65,
      "outputs": []
    },
    {
      "metadata": {
        "trusted": false
      },
      "cell_type": "code",
      "source": "adamodds",
      "execution_count": 66,
      "outputs": [
        {
          "data": {
            "text/plain": "1.0"
          },
          "execution_count": 66,
          "metadata": {},
          "output_type": "execute_result"
        }
      ]
    },
    {
      "metadata": {
        "trusted": false
      },
      "cell_type": "code",
      "source": "# adjust odds for Bill due to lower class\nbillodds = adamodds * 0.295",
      "execution_count": 67,
      "outputs": []
    },
    {
      "metadata": {
        "trusted": false
      },
      "cell_type": "code",
      "source": "billodds",
      "execution_count": 68,
      "outputs": [
        {
          "data": {
            "text/plain": "0.295"
          },
          "execution_count": 68,
          "metadata": {},
          "output_type": "execute_result"
        }
      ]
    },
    {
      "metadata": {},
      "cell_type": "markdown",
      "source": "#### INTERPRETING THE SEX_FEMALE COEFFICIENT"
    },
    {
      "metadata": {
        "trusted": false
      },
      "cell_type": "code",
      "source": "# Predict probability of survival for **Susan**: same as Adam, except female.\ntest_data = [[1, 0, 29, 1]]\nlogreg.predict_proba(test_data)[:, 1]",
      "execution_count": 69,
      "outputs": [
        {
          "data": {
            "text/plain": "array([0.94])"
          },
          "execution_count": 69,
          "metadata": {},
          "output_type": "execute_result"
        }
      ]
    },
    {
      "metadata": {},
      "cell_type": "markdown",
      "source": "#### Let's calculate that change ourselves:"
    },
    {
      "metadata": {
        "trusted": false
      },
      "cell_type": "code",
      "source": "# adjust odds for Susan due to her sex\nsusanodds = adamodds * 14.6\nsusanodds",
      "execution_count": 70,
      "outputs": [
        {
          "data": {
            "text/plain": "14.6"
          },
          "execution_count": 70,
          "metadata": {},
          "output_type": "execute_result"
        }
      ]
    },
    {
      "metadata": {},
      "cell_type": "markdown",
      "source": "#### How do we interpret the **Sex_Female coefficient**? \nFor a given Pclass/Parch/Age, being female is associated with an increase in the **log-odds of survival** by 2.68 (or an increase in the **odds of survival** by 14.6) as compared to a male, which is called the **baseline level**."
    },
    {
      "metadata": {},
      "cell_type": "markdown",
      "source": "#### WHAT IF WE HAD REVERSED THE ENCODING FOR SEX?"
    },
    {
      "metadata": {
        "trusted": false
      },
      "cell_type": "code",
      "source": "# encode Sex_Male feature\ntitanic['Sex_Male'] = titanic.Sex.map({'male':1, 'female':0})",
      "execution_count": 71,
      "outputs": []
    },
    {
      "metadata": {
        "trusted": false
      },
      "cell_type": "code",
      "source": "titanic.head()",
      "execution_count": 72,
      "outputs": [
        {
          "data": {
            "text/html": "<div>\n<style scoped>\n    .dataframe tbody tr th:only-of-type {\n        vertical-align: middle;\n    }\n\n    .dataframe tbody tr th {\n        vertical-align: top;\n    }\n\n    .dataframe thead th {\n        text-align: right;\n    }\n</style>\n<table border=\"1\" class=\"dataframe\">\n  <thead>\n    <tr style=\"text-align: right;\">\n      <th></th>\n      <th>Survived</th>\n      <th>Pclass</th>\n      <th>Name</th>\n      <th>Sex</th>\n      <th>Age</th>\n      <th>SibSp</th>\n      <th>Parch</th>\n      <th>Ticket</th>\n      <th>Fare</th>\n      <th>Cabin</th>\n      <th>Embarked</th>\n      <th>Sex_Female</th>\n      <th>Sex_Male</th>\n    </tr>\n    <tr>\n      <th>PassengerId</th>\n      <th></th>\n      <th></th>\n      <th></th>\n      <th></th>\n      <th></th>\n      <th></th>\n      <th></th>\n      <th></th>\n      <th></th>\n      <th></th>\n      <th></th>\n      <th></th>\n      <th></th>\n    </tr>\n  </thead>\n  <tbody>\n    <tr>\n      <th>1</th>\n      <td>0</td>\n      <td>3</td>\n      <td>Braund, Mr. Owen Harris</td>\n      <td>male</td>\n      <td>22.0</td>\n      <td>1</td>\n      <td>0</td>\n      <td>A/5 21171</td>\n      <td>7.2500</td>\n      <td>NaN</td>\n      <td>S</td>\n      <td>0</td>\n      <td>1</td>\n    </tr>\n    <tr>\n      <th>2</th>\n      <td>1</td>\n      <td>1</td>\n      <td>Cumings, Mrs. John Bradley (Florence Briggs Th...</td>\n      <td>female</td>\n      <td>38.0</td>\n      <td>1</td>\n      <td>0</td>\n      <td>PC 17599</td>\n      <td>71.2833</td>\n      <td>C85</td>\n      <td>C</td>\n      <td>1</td>\n      <td>0</td>\n    </tr>\n    <tr>\n      <th>3</th>\n      <td>1</td>\n      <td>3</td>\n      <td>Heikkinen, Miss. Laina</td>\n      <td>female</td>\n      <td>26.0</td>\n      <td>0</td>\n      <td>0</td>\n      <td>STON/O2. 3101282</td>\n      <td>7.9250</td>\n      <td>NaN</td>\n      <td>S</td>\n      <td>1</td>\n      <td>0</td>\n    </tr>\n    <tr>\n      <th>4</th>\n      <td>1</td>\n      <td>1</td>\n      <td>Futrelle, Mrs. Jacques Heath (Lily May Peel)</td>\n      <td>female</td>\n      <td>35.0</td>\n      <td>1</td>\n      <td>0</td>\n      <td>113803</td>\n      <td>53.1000</td>\n      <td>C123</td>\n      <td>S</td>\n      <td>1</td>\n      <td>0</td>\n    </tr>\n    <tr>\n      <th>5</th>\n      <td>0</td>\n      <td>3</td>\n      <td>Allen, Mr. William Henry</td>\n      <td>male</td>\n      <td>35.0</td>\n      <td>0</td>\n      <td>0</td>\n      <td>373450</td>\n      <td>8.0500</td>\n      <td>NaN</td>\n      <td>S</td>\n      <td>0</td>\n      <td>1</td>\n    </tr>\n  </tbody>\n</table>\n</div>",
            "text/plain": "             Survived  Pclass  \\\nPassengerId                     \n1                   0       3   \n2                   1       1   \n3                   1       3   \n4                   1       1   \n5                   0       3   \n\n                                                          Name     Sex   Age  \\\nPassengerId                                                                    \n1                                      Braund, Mr. Owen Harris    male  22.0   \n2            Cumings, Mrs. John Bradley (Florence Briggs Th...  female  38.0   \n3                                       Heikkinen, Miss. Laina  female  26.0   \n4                 Futrelle, Mrs. Jacques Heath (Lily May Peel)  female  35.0   \n5                                     Allen, Mr. William Henry    male  35.0   \n\n             SibSp  Parch            Ticket     Fare Cabin Embarked  \\\nPassengerId                                                           \n1                1      0         A/5 21171   7.2500   NaN        S   \n2                1      0          PC 17599  71.2833   C85        C   \n3                0      0  STON/O2. 3101282   7.9250   NaN        S   \n4                1      0            113803  53.1000  C123        S   \n5                0      0            373450   8.0500   NaN        S   \n\n             Sex_Female  Sex_Male  \nPassengerId                        \n1                     0         1  \n2                     1         0  \n3                     1         0  \n4                     1         0  \n5                     0         1  "
          },
          "execution_count": 72,
          "metadata": {},
          "output_type": "execute_result"
        }
      ]
    },
    {
      "metadata": {
        "trusted": false
      },
      "cell_type": "code",
      "source": "# include Sex_Male in the model instead of Sex_Female\nfeature_cols = ['Pclass', 'Parch', 'Age', 'Sex_Male']\nX = titanic[feature_cols]\nX_train, X_test, y_train, y_test = train_test_split(X, y, random_state=1)\nlogreg.fit(X_train, y_train)\ndict(zip(feature_cols, logreg.coef_[0]))",
      "execution_count": 73,
      "outputs": [
        {
          "data": {
            "text/plain": "{'Pclass': -1.2201766987717528,\n 'Parch': -0.11678129867410102,\n 'Age': -0.04043299167952507,\n 'Sex_Male': -2.6803869260350712}"
          },
          "execution_count": 73,
          "metadata": {},
          "output_type": "execute_result"
        }
      ]
    },
    {
      "metadata": {},
      "cell_type": "markdown",
      "source": "* The coefficient is the same, except that it's **negative instead of positive**. As such, your choice of category for the baseline does not matter, all that changes is your **interpretation** of the coefficient."
    },
    {
      "metadata": {},
      "cell_type": "markdown",
      "source": "### PART 6: DUMMY ENCODING WITH MORE THAN TWO LEVELS"
    },
    {
      "metadata": {},
      "cell_type": "markdown",
      "source": "#### How do we include an unordered categorical feature with more than two levels, like **Embarked**? \n\nWe can't simply encode it as C=1, Q=2, S=3, because that would imply an **ordered relationship** in which Q is somehow \"double\" C and S is somehow \"triple\" C.\n\nInstead, we create **additional dummy variables**:"
    },
    {
      "metadata": {
        "trusted": false
      },
      "cell_type": "code",
      "source": "pd.get_dummies(titanic.Embarked, prefix='Embarked')",
      "execution_count": 74,
      "outputs": [
        {
          "data": {
            "text/html": "<div>\n<style scoped>\n    .dataframe tbody tr th:only-of-type {\n        vertical-align: middle;\n    }\n\n    .dataframe tbody tr th {\n        vertical-align: top;\n    }\n\n    .dataframe thead th {\n        text-align: right;\n    }\n</style>\n<table border=\"1\" class=\"dataframe\">\n  <thead>\n    <tr style=\"text-align: right;\">\n      <th></th>\n      <th>Embarked_C</th>\n      <th>Embarked_Q</th>\n      <th>Embarked_S</th>\n    </tr>\n    <tr>\n      <th>PassengerId</th>\n      <th></th>\n      <th></th>\n      <th></th>\n    </tr>\n  </thead>\n  <tbody>\n    <tr>\n      <th>1</th>\n      <td>0</td>\n      <td>0</td>\n      <td>1</td>\n    </tr>\n    <tr>\n      <th>2</th>\n      <td>1</td>\n      <td>0</td>\n      <td>0</td>\n    </tr>\n    <tr>\n      <th>3</th>\n      <td>0</td>\n      <td>0</td>\n      <td>1</td>\n    </tr>\n    <tr>\n      <th>4</th>\n      <td>0</td>\n      <td>0</td>\n      <td>1</td>\n    </tr>\n    <tr>\n      <th>5</th>\n      <td>0</td>\n      <td>0</td>\n      <td>1</td>\n    </tr>\n    <tr>\n      <th>6</th>\n      <td>0</td>\n      <td>1</td>\n      <td>0</td>\n    </tr>\n    <tr>\n      <th>7</th>\n      <td>0</td>\n      <td>0</td>\n      <td>1</td>\n    </tr>\n    <tr>\n      <th>8</th>\n      <td>0</td>\n      <td>0</td>\n      <td>1</td>\n    </tr>\n    <tr>\n      <th>9</th>\n      <td>0</td>\n      <td>0</td>\n      <td>1</td>\n    </tr>\n    <tr>\n      <th>10</th>\n      <td>1</td>\n      <td>0</td>\n      <td>0</td>\n    </tr>\n    <tr>\n      <th>11</th>\n      <td>0</td>\n      <td>0</td>\n      <td>1</td>\n    </tr>\n    <tr>\n      <th>12</th>\n      <td>0</td>\n      <td>0</td>\n      <td>1</td>\n    </tr>\n    <tr>\n      <th>13</th>\n      <td>0</td>\n      <td>0</td>\n      <td>1</td>\n    </tr>\n    <tr>\n      <th>14</th>\n      <td>0</td>\n      <td>0</td>\n      <td>1</td>\n    </tr>\n    <tr>\n      <th>15</th>\n      <td>0</td>\n      <td>0</td>\n      <td>1</td>\n    </tr>\n    <tr>\n      <th>16</th>\n      <td>0</td>\n      <td>0</td>\n      <td>1</td>\n    </tr>\n    <tr>\n      <th>17</th>\n      <td>0</td>\n      <td>1</td>\n      <td>0</td>\n    </tr>\n    <tr>\n      <th>18</th>\n      <td>0</td>\n      <td>0</td>\n      <td>1</td>\n    </tr>\n    <tr>\n      <th>19</th>\n      <td>0</td>\n      <td>0</td>\n      <td>1</td>\n    </tr>\n    <tr>\n      <th>20</th>\n      <td>1</td>\n      <td>0</td>\n      <td>0</td>\n    </tr>\n    <tr>\n      <th>21</th>\n      <td>0</td>\n      <td>0</td>\n      <td>1</td>\n    </tr>\n    <tr>\n      <th>22</th>\n      <td>0</td>\n      <td>0</td>\n      <td>1</td>\n    </tr>\n    <tr>\n      <th>23</th>\n      <td>0</td>\n      <td>1</td>\n      <td>0</td>\n    </tr>\n    <tr>\n      <th>24</th>\n      <td>0</td>\n      <td>0</td>\n      <td>1</td>\n    </tr>\n    <tr>\n      <th>25</th>\n      <td>0</td>\n      <td>0</td>\n      <td>1</td>\n    </tr>\n    <tr>\n      <th>26</th>\n      <td>0</td>\n      <td>0</td>\n      <td>1</td>\n    </tr>\n    <tr>\n      <th>27</th>\n      <td>1</td>\n      <td>0</td>\n      <td>0</td>\n    </tr>\n    <tr>\n      <th>28</th>\n      <td>0</td>\n      <td>0</td>\n      <td>1</td>\n    </tr>\n    <tr>\n      <th>29</th>\n      <td>0</td>\n      <td>1</td>\n      <td>0</td>\n    </tr>\n    <tr>\n      <th>30</th>\n      <td>0</td>\n      <td>0</td>\n      <td>1</td>\n    </tr>\n    <tr>\n      <th>...</th>\n      <td>...</td>\n      <td>...</td>\n      <td>...</td>\n    </tr>\n    <tr>\n      <th>862</th>\n      <td>0</td>\n      <td>0</td>\n      <td>1</td>\n    </tr>\n    <tr>\n      <th>863</th>\n      <td>0</td>\n      <td>0</td>\n      <td>1</td>\n    </tr>\n    <tr>\n      <th>864</th>\n      <td>0</td>\n      <td>0</td>\n      <td>1</td>\n    </tr>\n    <tr>\n      <th>865</th>\n      <td>0</td>\n      <td>0</td>\n      <td>1</td>\n    </tr>\n    <tr>\n      <th>866</th>\n      <td>0</td>\n      <td>0</td>\n      <td>1</td>\n    </tr>\n    <tr>\n      <th>867</th>\n      <td>1</td>\n      <td>0</td>\n      <td>0</td>\n    </tr>\n    <tr>\n      <th>868</th>\n      <td>0</td>\n      <td>0</td>\n      <td>1</td>\n    </tr>\n    <tr>\n      <th>869</th>\n      <td>0</td>\n      <td>0</td>\n      <td>1</td>\n    </tr>\n    <tr>\n      <th>870</th>\n      <td>0</td>\n      <td>0</td>\n      <td>1</td>\n    </tr>\n    <tr>\n      <th>871</th>\n      <td>0</td>\n      <td>0</td>\n      <td>1</td>\n    </tr>\n    <tr>\n      <th>872</th>\n      <td>0</td>\n      <td>0</td>\n      <td>1</td>\n    </tr>\n    <tr>\n      <th>873</th>\n      <td>0</td>\n      <td>0</td>\n      <td>1</td>\n    </tr>\n    <tr>\n      <th>874</th>\n      <td>0</td>\n      <td>0</td>\n      <td>1</td>\n    </tr>\n    <tr>\n      <th>875</th>\n      <td>1</td>\n      <td>0</td>\n      <td>0</td>\n    </tr>\n    <tr>\n      <th>876</th>\n      <td>1</td>\n      <td>0</td>\n      <td>0</td>\n    </tr>\n    <tr>\n      <th>877</th>\n      <td>0</td>\n      <td>0</td>\n      <td>1</td>\n    </tr>\n    <tr>\n      <th>878</th>\n      <td>0</td>\n      <td>0</td>\n      <td>1</td>\n    </tr>\n    <tr>\n      <th>879</th>\n      <td>0</td>\n      <td>0</td>\n      <td>1</td>\n    </tr>\n    <tr>\n      <th>880</th>\n      <td>1</td>\n      <td>0</td>\n      <td>0</td>\n    </tr>\n    <tr>\n      <th>881</th>\n      <td>0</td>\n      <td>0</td>\n      <td>1</td>\n    </tr>\n    <tr>\n      <th>882</th>\n      <td>0</td>\n      <td>0</td>\n      <td>1</td>\n    </tr>\n    <tr>\n      <th>883</th>\n      <td>0</td>\n      <td>0</td>\n      <td>1</td>\n    </tr>\n    <tr>\n      <th>884</th>\n      <td>0</td>\n      <td>0</td>\n      <td>1</td>\n    </tr>\n    <tr>\n      <th>885</th>\n      <td>0</td>\n      <td>0</td>\n      <td>1</td>\n    </tr>\n    <tr>\n      <th>886</th>\n      <td>0</td>\n      <td>1</td>\n      <td>0</td>\n    </tr>\n    <tr>\n      <th>887</th>\n      <td>0</td>\n      <td>0</td>\n      <td>1</td>\n    </tr>\n    <tr>\n      <th>888</th>\n      <td>0</td>\n      <td>0</td>\n      <td>1</td>\n    </tr>\n    <tr>\n      <th>889</th>\n      <td>0</td>\n      <td>0</td>\n      <td>1</td>\n    </tr>\n    <tr>\n      <th>890</th>\n      <td>1</td>\n      <td>0</td>\n      <td>0</td>\n    </tr>\n    <tr>\n      <th>891</th>\n      <td>0</td>\n      <td>1</td>\n      <td>0</td>\n    </tr>\n  </tbody>\n</table>\n<p>891 rows × 3 columns</p>\n</div>",
            "text/plain": "             Embarked_C  Embarked_Q  Embarked_S\nPassengerId                                    \n1                     0           0           1\n2                     1           0           0\n3                     0           0           1\n4                     0           0           1\n5                     0           0           1\n6                     0           1           0\n7                     0           0           1\n8                     0           0           1\n9                     0           0           1\n10                    1           0           0\n11                    0           0           1\n12                    0           0           1\n13                    0           0           1\n14                    0           0           1\n15                    0           0           1\n16                    0           0           1\n17                    0           1           0\n18                    0           0           1\n19                    0           0           1\n20                    1           0           0\n21                    0           0           1\n22                    0           0           1\n23                    0           1           0\n24                    0           0           1\n25                    0           0           1\n26                    0           0           1\n27                    1           0           0\n28                    0           0           1\n29                    0           1           0\n30                    0           0           1\n...                 ...         ...         ...\n862                   0           0           1\n863                   0           0           1\n864                   0           0           1\n865                   0           0           1\n866                   0           0           1\n867                   1           0           0\n868                   0           0           1\n869                   0           0           1\n870                   0           0           1\n871                   0           0           1\n872                   0           0           1\n873                   0           0           1\n874                   0           0           1\n875                   1           0           0\n876                   1           0           0\n877                   0           0           1\n878                   0           0           1\n879                   0           0           1\n880                   1           0           0\n881                   0           0           1\n882                   0           0           1\n883                   0           0           1\n884                   0           0           1\n885                   0           0           1\n886                   0           1           0\n887                   0           0           1\n888                   0           0           1\n889                   0           0           1\n890                   1           0           0\n891                   0           1           0\n\n[891 rows x 3 columns]"
          },
          "execution_count": 74,
          "metadata": {},
          "output_type": "execute_result"
        }
      ]
    },
    {
      "metadata": {
        "trusted": false
      },
      "cell_type": "code",
      "source": "# create a DataFrame with the two dummy variable columns\nembarked_dummies = pd.get_dummies(titanic.Embarked, prefix='Embarked').iloc[:, 1:]",
      "execution_count": 75,
      "outputs": []
    },
    {
      "metadata": {
        "trusted": false
      },
      "cell_type": "code",
      "source": "embarked_dummies",
      "execution_count": 76,
      "outputs": [
        {
          "data": {
            "text/html": "<div>\n<style scoped>\n    .dataframe tbody tr th:only-of-type {\n        vertical-align: middle;\n    }\n\n    .dataframe tbody tr th {\n        vertical-align: top;\n    }\n\n    .dataframe thead th {\n        text-align: right;\n    }\n</style>\n<table border=\"1\" class=\"dataframe\">\n  <thead>\n    <tr style=\"text-align: right;\">\n      <th></th>\n      <th>Embarked_Q</th>\n      <th>Embarked_S</th>\n    </tr>\n    <tr>\n      <th>PassengerId</th>\n      <th></th>\n      <th></th>\n    </tr>\n  </thead>\n  <tbody>\n    <tr>\n      <th>1</th>\n      <td>0</td>\n      <td>1</td>\n    </tr>\n    <tr>\n      <th>2</th>\n      <td>0</td>\n      <td>0</td>\n    </tr>\n    <tr>\n      <th>3</th>\n      <td>0</td>\n      <td>1</td>\n    </tr>\n    <tr>\n      <th>4</th>\n      <td>0</td>\n      <td>1</td>\n    </tr>\n    <tr>\n      <th>5</th>\n      <td>0</td>\n      <td>1</td>\n    </tr>\n    <tr>\n      <th>6</th>\n      <td>1</td>\n      <td>0</td>\n    </tr>\n    <tr>\n      <th>7</th>\n      <td>0</td>\n      <td>1</td>\n    </tr>\n    <tr>\n      <th>8</th>\n      <td>0</td>\n      <td>1</td>\n    </tr>\n    <tr>\n      <th>9</th>\n      <td>0</td>\n      <td>1</td>\n    </tr>\n    <tr>\n      <th>10</th>\n      <td>0</td>\n      <td>0</td>\n    </tr>\n    <tr>\n      <th>11</th>\n      <td>0</td>\n      <td>1</td>\n    </tr>\n    <tr>\n      <th>12</th>\n      <td>0</td>\n      <td>1</td>\n    </tr>\n    <tr>\n      <th>13</th>\n      <td>0</td>\n      <td>1</td>\n    </tr>\n    <tr>\n      <th>14</th>\n      <td>0</td>\n      <td>1</td>\n    </tr>\n    <tr>\n      <th>15</th>\n      <td>0</td>\n      <td>1</td>\n    </tr>\n    <tr>\n      <th>16</th>\n      <td>0</td>\n      <td>1</td>\n    </tr>\n    <tr>\n      <th>17</th>\n      <td>1</td>\n      <td>0</td>\n    </tr>\n    <tr>\n      <th>18</th>\n      <td>0</td>\n      <td>1</td>\n    </tr>\n    <tr>\n      <th>19</th>\n      <td>0</td>\n      <td>1</td>\n    </tr>\n    <tr>\n      <th>20</th>\n      <td>0</td>\n      <td>0</td>\n    </tr>\n    <tr>\n      <th>21</th>\n      <td>0</td>\n      <td>1</td>\n    </tr>\n    <tr>\n      <th>22</th>\n      <td>0</td>\n      <td>1</td>\n    </tr>\n    <tr>\n      <th>23</th>\n      <td>1</td>\n      <td>0</td>\n    </tr>\n    <tr>\n      <th>24</th>\n      <td>0</td>\n      <td>1</td>\n    </tr>\n    <tr>\n      <th>25</th>\n      <td>0</td>\n      <td>1</td>\n    </tr>\n    <tr>\n      <th>26</th>\n      <td>0</td>\n      <td>1</td>\n    </tr>\n    <tr>\n      <th>27</th>\n      <td>0</td>\n      <td>0</td>\n    </tr>\n    <tr>\n      <th>28</th>\n      <td>0</td>\n      <td>1</td>\n    </tr>\n    <tr>\n      <th>29</th>\n      <td>1</td>\n      <td>0</td>\n    </tr>\n    <tr>\n      <th>30</th>\n      <td>0</td>\n      <td>1</td>\n    </tr>\n    <tr>\n      <th>...</th>\n      <td>...</td>\n      <td>...</td>\n    </tr>\n    <tr>\n      <th>862</th>\n      <td>0</td>\n      <td>1</td>\n    </tr>\n    <tr>\n      <th>863</th>\n      <td>0</td>\n      <td>1</td>\n    </tr>\n    <tr>\n      <th>864</th>\n      <td>0</td>\n      <td>1</td>\n    </tr>\n    <tr>\n      <th>865</th>\n      <td>0</td>\n      <td>1</td>\n    </tr>\n    <tr>\n      <th>866</th>\n      <td>0</td>\n      <td>1</td>\n    </tr>\n    <tr>\n      <th>867</th>\n      <td>0</td>\n      <td>0</td>\n    </tr>\n    <tr>\n      <th>868</th>\n      <td>0</td>\n      <td>1</td>\n    </tr>\n    <tr>\n      <th>869</th>\n      <td>0</td>\n      <td>1</td>\n    </tr>\n    <tr>\n      <th>870</th>\n      <td>0</td>\n      <td>1</td>\n    </tr>\n    <tr>\n      <th>871</th>\n      <td>0</td>\n      <td>1</td>\n    </tr>\n    <tr>\n      <th>872</th>\n      <td>0</td>\n      <td>1</td>\n    </tr>\n    <tr>\n      <th>873</th>\n      <td>0</td>\n      <td>1</td>\n    </tr>\n    <tr>\n      <th>874</th>\n      <td>0</td>\n      <td>1</td>\n    </tr>\n    <tr>\n      <th>875</th>\n      <td>0</td>\n      <td>0</td>\n    </tr>\n    <tr>\n      <th>876</th>\n      <td>0</td>\n      <td>0</td>\n    </tr>\n    <tr>\n      <th>877</th>\n      <td>0</td>\n      <td>1</td>\n    </tr>\n    <tr>\n      <th>878</th>\n      <td>0</td>\n      <td>1</td>\n    </tr>\n    <tr>\n      <th>879</th>\n      <td>0</td>\n      <td>1</td>\n    </tr>\n    <tr>\n      <th>880</th>\n      <td>0</td>\n      <td>0</td>\n    </tr>\n    <tr>\n      <th>881</th>\n      <td>0</td>\n      <td>1</td>\n    </tr>\n    <tr>\n      <th>882</th>\n      <td>0</td>\n      <td>1</td>\n    </tr>\n    <tr>\n      <th>883</th>\n      <td>0</td>\n      <td>1</td>\n    </tr>\n    <tr>\n      <th>884</th>\n      <td>0</td>\n      <td>1</td>\n    </tr>\n    <tr>\n      <th>885</th>\n      <td>0</td>\n      <td>1</td>\n    </tr>\n    <tr>\n      <th>886</th>\n      <td>1</td>\n      <td>0</td>\n    </tr>\n    <tr>\n      <th>887</th>\n      <td>0</td>\n      <td>1</td>\n    </tr>\n    <tr>\n      <th>888</th>\n      <td>0</td>\n      <td>1</td>\n    </tr>\n    <tr>\n      <th>889</th>\n      <td>0</td>\n      <td>1</td>\n    </tr>\n    <tr>\n      <th>890</th>\n      <td>0</td>\n      <td>0</td>\n    </tr>\n    <tr>\n      <th>891</th>\n      <td>1</td>\n      <td>0</td>\n    </tr>\n  </tbody>\n</table>\n<p>891 rows × 2 columns</p>\n</div>",
            "text/plain": "             Embarked_Q  Embarked_S\nPassengerId                        \n1                     0           1\n2                     0           0\n3                     0           1\n4                     0           1\n5                     0           1\n6                     1           0\n7                     0           1\n8                     0           1\n9                     0           1\n10                    0           0\n11                    0           1\n12                    0           1\n13                    0           1\n14                    0           1\n15                    0           1\n16                    0           1\n17                    1           0\n18                    0           1\n19                    0           1\n20                    0           0\n21                    0           1\n22                    0           1\n23                    1           0\n24                    0           1\n25                    0           1\n26                    0           1\n27                    0           0\n28                    0           1\n29                    1           0\n30                    0           1\n...                 ...         ...\n862                   0           1\n863                   0           1\n864                   0           1\n865                   0           1\n866                   0           1\n867                   0           0\n868                   0           1\n869                   0           1\n870                   0           1\n871                   0           1\n872                   0           1\n873                   0           1\n874                   0           1\n875                   0           0\n876                   0           0\n877                   0           1\n878                   0           1\n879                   0           1\n880                   0           0\n881                   0           1\n882                   0           1\n883                   0           1\n884                   0           1\n885                   0           1\n886                   1           0\n887                   0           1\n888                   0           1\n889                   0           1\n890                   0           0\n891                   1           0\n\n[891 rows x 2 columns]"
          },
          "execution_count": 76,
          "metadata": {},
          "output_type": "execute_result"
        }
      ]
    },
    {
      "metadata": {
        "trusted": false
      },
      "cell_type": "code",
      "source": "# concatenate the original DataFrame and the dummy DataFrame (axis=0 means rows, axis=1 means columns)\ntitanic = pd.concat([titanic, embarked_dummies], axis=1)\ntitanic.head()",
      "execution_count": 77,
      "outputs": [
        {
          "data": {
            "text/html": "<div>\n<style scoped>\n    .dataframe tbody tr th:only-of-type {\n        vertical-align: middle;\n    }\n\n    .dataframe tbody tr th {\n        vertical-align: top;\n    }\n\n    .dataframe thead th {\n        text-align: right;\n    }\n</style>\n<table border=\"1\" class=\"dataframe\">\n  <thead>\n    <tr style=\"text-align: right;\">\n      <th></th>\n      <th>Survived</th>\n      <th>Pclass</th>\n      <th>Name</th>\n      <th>Sex</th>\n      <th>Age</th>\n      <th>SibSp</th>\n      <th>Parch</th>\n      <th>Ticket</th>\n      <th>Fare</th>\n      <th>Cabin</th>\n      <th>Embarked</th>\n      <th>Sex_Female</th>\n      <th>Sex_Male</th>\n      <th>Embarked_Q</th>\n      <th>Embarked_S</th>\n    </tr>\n    <tr>\n      <th>PassengerId</th>\n      <th></th>\n      <th></th>\n      <th></th>\n      <th></th>\n      <th></th>\n      <th></th>\n      <th></th>\n      <th></th>\n      <th></th>\n      <th></th>\n      <th></th>\n      <th></th>\n      <th></th>\n      <th></th>\n      <th></th>\n    </tr>\n  </thead>\n  <tbody>\n    <tr>\n      <th>1</th>\n      <td>0</td>\n      <td>3</td>\n      <td>Braund, Mr. Owen Harris</td>\n      <td>male</td>\n      <td>22.0</td>\n      <td>1</td>\n      <td>0</td>\n      <td>A/5 21171</td>\n      <td>7.2500</td>\n      <td>NaN</td>\n      <td>S</td>\n      <td>0</td>\n      <td>1</td>\n      <td>0</td>\n      <td>1</td>\n    </tr>\n    <tr>\n      <th>2</th>\n      <td>1</td>\n      <td>1</td>\n      <td>Cumings, Mrs. John Bradley (Florence Briggs Th...</td>\n      <td>female</td>\n      <td>38.0</td>\n      <td>1</td>\n      <td>0</td>\n      <td>PC 17599</td>\n      <td>71.2833</td>\n      <td>C85</td>\n      <td>C</td>\n      <td>1</td>\n      <td>0</td>\n      <td>0</td>\n      <td>0</td>\n    </tr>\n    <tr>\n      <th>3</th>\n      <td>1</td>\n      <td>3</td>\n      <td>Heikkinen, Miss. Laina</td>\n      <td>female</td>\n      <td>26.0</td>\n      <td>0</td>\n      <td>0</td>\n      <td>STON/O2. 3101282</td>\n      <td>7.9250</td>\n      <td>NaN</td>\n      <td>S</td>\n      <td>1</td>\n      <td>0</td>\n      <td>0</td>\n      <td>1</td>\n    </tr>\n    <tr>\n      <th>4</th>\n      <td>1</td>\n      <td>1</td>\n      <td>Futrelle, Mrs. Jacques Heath (Lily May Peel)</td>\n      <td>female</td>\n      <td>35.0</td>\n      <td>1</td>\n      <td>0</td>\n      <td>113803</td>\n      <td>53.1000</td>\n      <td>C123</td>\n      <td>S</td>\n      <td>1</td>\n      <td>0</td>\n      <td>0</td>\n      <td>1</td>\n    </tr>\n    <tr>\n      <th>5</th>\n      <td>0</td>\n      <td>3</td>\n      <td>Allen, Mr. William Henry</td>\n      <td>male</td>\n      <td>35.0</td>\n      <td>0</td>\n      <td>0</td>\n      <td>373450</td>\n      <td>8.0500</td>\n      <td>NaN</td>\n      <td>S</td>\n      <td>0</td>\n      <td>1</td>\n      <td>0</td>\n      <td>1</td>\n    </tr>\n  </tbody>\n</table>\n</div>",
            "text/plain": "             Survived  Pclass  \\\nPassengerId                     \n1                   0       3   \n2                   1       1   \n3                   1       3   \n4                   1       1   \n5                   0       3   \n\n                                                          Name     Sex   Age  \\\nPassengerId                                                                    \n1                                      Braund, Mr. Owen Harris    male  22.0   \n2            Cumings, Mrs. John Bradley (Florence Briggs Th...  female  38.0   \n3                                       Heikkinen, Miss. Laina  female  26.0   \n4                 Futrelle, Mrs. Jacques Heath (Lily May Peel)  female  35.0   \n5                                     Allen, Mr. William Henry    male  35.0   \n\n             SibSp  Parch            Ticket     Fare Cabin Embarked  \\\nPassengerId                                                           \n1                1      0         A/5 21171   7.2500   NaN        S   \n2                1      0          PC 17599  71.2833   C85        C   \n3                0      0  STON/O2. 3101282   7.9250   NaN        S   \n4                1      0            113803  53.1000  C123        S   \n5                0      0            373450   8.0500   NaN        S   \n\n             Sex_Female  Sex_Male  Embarked_Q  Embarked_S  \nPassengerId                                                \n1                     0         1           0           1  \n2                     1         0           0           0  \n3                     1         0           0           1  \n4                     1         0           0           1  \n5                     0         1           0           1  "
          },
          "execution_count": 77,
          "metadata": {},
          "output_type": "execute_result"
        }
      ]
    },
    {
      "metadata": {
        "trusted": false
      },
      "cell_type": "code",
      "source": "# include Embarked_Q and Embarked_S in the model\nfeature_cols = ['Pclass', 'Parch', 'Age', 'Sex_Female', 'Embarked_Q', 'Embarked_S']\nX = titanic[feature_cols]\nX_train, X_test, y_train, y_test = train_test_split(X, y, random_state=1)\nlogreg=LogisticRegression(C=1e9)\nlogreg.fit(X_train, y_train)\ndict(zip(feature_cols, logreg.coef_[0]))",
      "execution_count": 78,
      "outputs": [
        {
          "data": {
            "text/plain": "{'Pclass': -1.188498705575055,\n 'Parch': -0.0936223511453913,\n 'Age': -0.04072731443934316,\n 'Sex_Female': 2.642506362959791,\n 'Embarked_Q': -0.18494059549508549,\n 'Embarked_S': -0.6101991548004119}"
          },
          "execution_count": 78,
          "metadata": {},
          "output_type": "execute_result"
        }
      ]
    },
    {
      "metadata": {},
      "cell_type": "markdown",
      "source": "#### How do we interpret the Embarked coefficients? \n\nThey are **measured against the baseline (C)**, and thus embarking at Q is associated with a decrease in the likelihood of survival compared with C, and embarking at S is associated with a further decrease in the likelihood of survival."
    },
    {
      "metadata": {},
      "cell_type": "markdown",
      "source": "## PART 7: ROC CURVES AND AUC\n-- Follow the lecture slides"
    },
    {
      "metadata": {
        "trusted": false
      },
      "cell_type": "code",
      "source": "# predict probability of survival\ny_pred_prob = logreg.predict_proba(X_test)[:, 1]",
      "execution_count": 79,
      "outputs": []
    },
    {
      "metadata": {
        "trusted": false
      },
      "cell_type": "code",
      "source": "# plot ROC curve\nfpr, tpr, thresholds = metrics.roc_curve(y_test, y_pred_prob)\nplt.plot(fpr, tpr)\nplt.xlim([0.0, 1.0])\nplt.ylim([0.0, 1.0])\nplt.xlabel('False Positive Rate (1 - Specificity)')\nplt.ylabel('True Positive Rate (Sensitivity)')",
      "execution_count": 80,
      "outputs": [
        {
          "data": {
            "text/plain": "Text(0,0.5,'True Positive Rate (Sensitivity)')"
          },
          "execution_count": 80,
          "metadata": {},
          "output_type": "execute_result"
        },
        {
          "data": {
            "image/png": "[encoded data removed]",
            "text/plain": "<Figure size 432x288 with 1 Axes>"
          },
          "metadata": {
            "needs_background": "light"
          },
          "output_type": "display_data"
        }
      ]
    },
    {
      "metadata": {},
      "cell_type": "markdown",
      "source": "- Besides allowing you to calculate AUC, seeing the ROC curve can help you to choose a threshold that **balances sensitivity and specificity** in a way that makes sense for the particular context.\n"
    },
    {
      "metadata": {
        "trusted": false
      },
      "cell_type": "code",
      "source": "# calculate AUC\nprint (metrics.roc_auc_score(y_test, y_pred_prob))",
      "execution_count": 81,
      "outputs": [
        {
          "name": "stdout",
          "output_type": "stream",
          "text": "0.8379111842105262\n"
        }
      ]
    },
    {
      "metadata": {},
      "cell_type": "markdown",
      "source": "* It's important to use **y_pred_prob** and not **y_pred_class** when computing an ROC curve or AUC. If you use y_pred_class, it will not give you an error, rather it will interpret the ones and zeros as predicted probabilities of 100% and 0%, and thus will give you incorrect results:\n"
    },
    {
      "metadata": {
        "trusted": false
      },
      "cell_type": "code",
      "source": "# calculate AUC using y_pred_class (producing incorrect results)\nprint (metrics.roc_auc_score(y_test[0:], y_pred_class[0]))",
      "execution_count": 82,
      "outputs": [
        {
          "name": "stdout",
          "output_type": "stream",
          "text": "0.5805509868421053\n"
        }
      ]
    },
    {
      "metadata": {
        "trusted": false
      },
      "cell_type": "code",
      "source": "",
      "execution_count": null,
      "outputs": []
    }
  ],
  "metadata": {
    "anaconda-cloud": {},
    "kernelspec": {
      "name": "python3",
      "display_name": "Python 3",
      "language": "python"
    },
    "language_info": {
      "mimetype": "text/x-python",
      "nbconvert_exporter": "python",
      "name": "python",
      "file_extension": ".py",
      "version": "3.5.4",
      "pygments_lexer": "ipython3",
      "codemirror_mode": {
        "version": 3,
        "name": "ipython"
      }
    }
  },
  "nbformat": 4,
  "nbformat_minor": 1
}