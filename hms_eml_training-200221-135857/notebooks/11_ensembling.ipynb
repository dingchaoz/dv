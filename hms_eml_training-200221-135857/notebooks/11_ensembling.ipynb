{
  "cells": [
    {
      "metadata": {},
      "cell_type": "markdown",
      "source": "# ENSEMBLING"
    },
    {
      "metadata": {},
      "cell_type": "markdown",
      "source": "*Adapted from Chapter 8 of [An Introduction to Statistical Learning](http://www-bcf.usc.edu/~gareth/ISL/)*"
    },
    {
      "metadata": {},
      "cell_type": "markdown",
      "source": "## PART 1: INTRODUCTION"
    },
    {
      "metadata": {},
      "cell_type": "markdown",
      "source": "__Let's pretend that instead of building a single model to solve a classification problem, you created **five independent models**, and each model was correct about 70% of the time. If you combined these models into an \"ensemble\" and used their majority vote as a prediction, how often would the ensemble be correct?__"
    },
    {
      "metadata": {
        "trusted": true
      },
      "cell_type": "code",
      "source": "import numpy as np",
      "execution_count": null,
      "outputs": []
    },
    {
      "metadata": {
        "trusted": true
      },
      "cell_type": "code",
      "source": "# set a seed for reproducibility\nnp.random.seed(1234)",
      "execution_count": null,
      "outputs": []
    },
    {
      "metadata": {
        "trusted": true
      },
      "cell_type": "code",
      "source": "# generate 1000 random numbers (between 0 and 1) for each model, representing 1000 observations\nmod1 = np.random.rand(1000)\nmod2 = np.random.rand(1000)\nmod3 = np.random.rand(1000)\nmod4 = np.random.rand(1000)\nmod5 = np.random.rand(1000)",
      "execution_count": null,
      "outputs": []
    },
    {
      "metadata": {
        "trusted": true
      },
      "cell_type": "code",
      "source": "# each model independently predicts 1 (the \"correct response\") if random number was at least 0.3\npreds1 = np.where(mod1 > 0.3, 1, 0)\npreds2 = np.where(mod2 > 0.3, 1, 0)\npreds3 = np.where(mod3 > 0.3, 1, 0)\npreds4 = np.where(mod4 > 0.3, 1, 0)\npreds5 = np.where(mod5 > 0.3, 1, 0)",
      "execution_count": null,
      "outputs": []
    },
    {
      "metadata": {
        "trusted": true
      },
      "cell_type": "code",
      "source": "mod1[:20]",
      "execution_count": null,
      "outputs": []
    },
    {
      "metadata": {
        "trusted": true
      },
      "cell_type": "code",
      "source": "# print the first 20 predictions from each model\nprint (preds1[:20])\nprint (preds2[:20])\nprint (preds3[:20])\nprint (preds4[:20])\nprint (preds5[:20])",
      "execution_count": null,
      "outputs": []
    },
    {
      "metadata": {
        "trusted": true
      },
      "cell_type": "code",
      "source": "# average the predictions and then round to 0 or 1\nensemble_preds = np.round((preds1 + preds2 + preds3 + preds4 + preds5)/5.0).astype(int)",
      "execution_count": null,
      "outputs": []
    },
    {
      "metadata": {
        "trusted": true
      },
      "cell_type": "code",
      "source": "ensemble_preds[:20]",
      "execution_count": null,
      "outputs": []
    },
    {
      "metadata": {
        "trusted": true
      },
      "cell_type": "code",
      "source": "# how accurate was each individual model?\nprint (preds1.mean())\nprint (preds2.mean())\nprint (preds3.mean())\nprint (preds4.mean())\nprint (preds5.mean())",
      "execution_count": null,
      "outputs": []
    },
    {
      "metadata": {
        "trusted": true
      },
      "cell_type": "code",
      "source": "# how accurate was the ensemble?\nprint (ensemble_preds.mean())",
      "execution_count": null,
      "outputs": []
    },
    {
      "metadata": {},
      "cell_type": "markdown",
      "source": "**Ensemble learning (or \"ensembling\")** is the process of combining several predictive models in order to produce a combined model that is more accurate than any individual model.\n- **Regression:** take the average of the predictions\n- **Classification:** take a vote and use the most common prediction, or take the average of the predicted probabilities"
    },
    {
      "metadata": {},
      "cell_type": "markdown",
      "source": "For ensembling to work well, the models must have the following characteristics:\n- **Accurate:** they outperform random guessing\n- **Independent:** their predictions are generated using different processes\n\n**The big idea:** If you have a collection of individually imperfect (and independent) models, the \"one-off\" mistakes made by each model are probably not going to be made by the rest of the models, and thus the mistakes will be discarded when averaging the models.\n\n**Note:** As you add more models to the voting process, the probability of error decreases, which is known as [Condorcet's Jury Theorem](http://en.wikipedia.org/wiki/Condorcet%27s_jury_theorem)."
    },
    {
      "metadata": {},
      "cell_type": "markdown",
      "source": "### ENSEMBLING METHODS\nThere are two basic methods for ensembling:\n1. Use a model that ensembles for you\n2. Manually ensemble your individual models\n\nWhat makes a good \"manual ensemble\"?\n- Different types of models\n- Different combinations of features\n- Different tuning parameters"
    },
    {
      "metadata": {},
      "cell_type": "markdown",
      "source": "## PART 2: BAGGING"
    },
    {
      "metadata": {},
      "cell_type": "markdown",
      "source": "* The primary weakness of **decision trees** is that they don't tend to have the best predictive accuracy. This is partially due to **high variance**, meaning that different splits in the training data can lead to very different trees.\n\n* **Bagging** is a general purpose procedure for reducing the variance of a machine learning method, but is particularly useful for decision trees. Bagging is short for **bootstrap aggregation**, meaning the aggregation of bootstrap samples."
    },
    {
      "metadata": {},
      "cell_type": "markdown",
      "source": "#### What is a **bootstrap sample**? A random sample with replacement:"
    },
    {
      "metadata": {
        "trusted": true
      },
      "cell_type": "code",
      "source": "# set a seed for reproducibility\nnp.random.seed(1)",
      "execution_count": null,
      "outputs": []
    },
    {
      "metadata": {
        "trusted": true
      },
      "cell_type": "code",
      "source": "# create an array of 1 through 20\nnums = np.arange(1, 21)\nprint (nums)",
      "execution_count": null,
      "outputs": []
    },
    {
      "metadata": {
        "trusted": true
      },
      "cell_type": "code",
      "source": "# sample that array 20 times with replacement\nprint (np.random.choice(a=nums, size=20, replace=True))",
      "execution_count": null,
      "outputs": []
    },
    {
      "metadata": {},
      "cell_type": "markdown",
      "source": "**How does bagging work (for decision trees)?**\n1. Grow B trees using B bootstrap samples from the training data.\n2. Train each tree on its bootstrap sample and make predictions.\n3. Combine the predictions:\n    - Average the predictions for **regression trees**\n    - Take a majority vote for **classification trees**"
    },
    {
      "metadata": {},
      "cell_type": "markdown",
      "source": "#### Notes:\n- **Each bootstrap sample** should be the same size as the original training set.\n- **B** should be a large enough value that the error seems to have \"stabilized\".\n- The trees are **grown deep** so that they have low bias/high variance.\n\n#### Bagging increases predictive accuracy by **reducing the variance**, similar to how cross-validation reduces the variance associated with train/test split (for estimating out-of-sample error) by splitting many times and averaging the results.\n"
    },
    {
      "metadata": {},
      "cell_type": "markdown",
      "source": "### MANUALLY IMPLEMENTING BAGGED DECISION TREES (WITH B=10)"
    },
    {
      "metadata": {
        "trusted": true
      },
      "cell_type": "code",
      "source": "# read in and prepare the vehicle training data\nimport pandas as pd\ntrain = pd.read_csv('../data/vehicles_train.csv')\ntrain['vtype'] = train.vtype.map({'car':0, 'truck':1})\ntrain",
      "execution_count": null,
      "outputs": []
    },
    {
      "metadata": {
        "trusted": true
      },
      "cell_type": "code",
      "source": "# set a seed for reproducibility\nnp.random.seed(123)",
      "execution_count": null,
      "outputs": []
    },
    {
      "metadata": {
        "trusted": true
      },
      "cell_type": "code",
      "source": "# create ten bootstrap samples (will be used to select rows from the DataFrame)\nsamples = [np.random.choice(a=14, size=14, replace=True) for _ in range(1, 11)]\nsamples",
      "execution_count": null,
      "outputs": []
    },
    {
      "metadata": {
        "trusted": true
      },
      "cell_type": "code",
      "source": "# show the rows for the third decision tree\ntrain.iloc[samples[3], :]",
      "execution_count": null,
      "outputs": []
    },
    {
      "metadata": {
        "trusted": true
      },
      "cell_type": "code",
      "source": "# read in and prepare the vehicle testing data\ntest = pd.read_csv('../data/vehicles_test.csv')\ntest['vtype'] = test.vtype.map({'car':0, 'truck':1})\ntest",
      "execution_count": null,
      "outputs": []
    },
    {
      "metadata": {
        "trusted": true
      },
      "cell_type": "code",
      "source": "from sklearn.tree import DecisionTreeRegressor",
      "execution_count": null,
      "outputs": []
    },
    {
      "metadata": {
        "trusted": true
      },
      "cell_type": "code",
      "source": "# grow each tree deep\ntreereg = DecisionTreeRegressor(max_depth=None, random_state=123)",
      "execution_count": null,
      "outputs": []
    },
    {
      "metadata": {
        "trusted": true
      },
      "cell_type": "code",
      "source": "# list for storing predicted price from each tree\npredictions = []\npredictions2 = []",
      "execution_count": null,
      "outputs": []
    },
    {
      "metadata": {
        "trusted": true
      },
      "cell_type": "code",
      "source": "# define testing data\nX_test = test.iloc[:, 1:]\ny_test = test.iloc[:, 0]",
      "execution_count": null,
      "outputs": []
    },
    {
      "metadata": {
        "trusted": true
      },
      "cell_type": "code",
      "source": "# grow one tree for each bootstrap sample and make predictions on testing data\nfor sample in samples:\n    X_train = train.iloc[sample, 1:]\n    y_train = train.iloc[sample, 0]\n    treereg.fit(X_train, y_train)\n    y_pred = treereg.predict(X_test)\n    predictions.append(y_pred)",
      "execution_count": null,
      "outputs": []
    },
    {
      "metadata": {
        "trusted": true
      },
      "cell_type": "code",
      "source": "predictions",
      "execution_count": null,
      "outputs": []
    },
    {
      "metadata": {
        "trusted": true
      },
      "cell_type": "code",
      "source": "# convert predictions from list to NumPy array\npredictions2 = np.array(predictions)\npredictions2",
      "execution_count": null,
      "outputs": []
    },
    {
      "metadata": {
        "trusted": true
      },
      "cell_type": "code",
      "source": "# average predictions\nnp.mean(predictions, axis=0)",
      "execution_count": null,
      "outputs": []
    },
    {
      "metadata": {
        "trusted": true
      },
      "cell_type": "code",
      "source": "# calculate RMSE\nfrom sklearn import metrics\ny_pred = np.mean(predictions, axis=0)\nnp.sqrt(metrics.mean_squared_error(y_test, y_pred))",
      "execution_count": null,
      "outputs": []
    },
    {
      "metadata": {},
      "cell_type": "markdown",
      "source": "### BAGGED DECISION TREES IN SCIKIT-LEARN (WITH B=500)"
    },
    {
      "metadata": {
        "trusted": true
      },
      "cell_type": "code",
      "source": "# define the training and testing sets\nX_train = train.iloc[:, 1:]\ny_train = train.iloc[:, 0]\nX_test = test.iloc[:, 1:]\ny_test = test.iloc[:, 0]",
      "execution_count": null,
      "outputs": []
    },
    {
      "metadata": {},
      "cell_type": "markdown",
      "source": "#### Out-of-bag (OOB) error\n\nOut-of-bag (OOB) error, also called out-of-bag estimate, is a method of measuring the prediction error of random forests, boosted decision trees, and other machine learning models utilizing bootstrap aggregating to sub-sample data sampled used for training. OOB is the mean prediction error on each training sample xᵢ, using only the trees that did not have xᵢ in their bootstrap sample.\n\nOOB Error uses R2, whose best possible score is 1.0, and lower values are worse."
    },
    {
      "metadata": {
        "trusted": true
      },
      "cell_type": "code",
      "source": "# instruct BaggingRegressor to use DecisionTreeRegressor as the \"base estimator\"\nfrom sklearn.ensemble import BaggingRegressor\nbagreg = BaggingRegressor(DecisionTreeRegressor(), n_estimators=500, bootstrap=True, oob_score=True, random_state=1)",
      "execution_count": null,
      "outputs": []
    },
    {
      "metadata": {
        "trusted": true
      },
      "cell_type": "code",
      "source": "BaggingRegressor?",
      "execution_count": null,
      "outputs": []
    },
    {
      "metadata": {
        "trusted": true
      },
      "cell_type": "code",
      "source": "# fit and predict\nbagreg.fit(X_train, y_train)\ny_pred = bagreg.predict(X_test)\ny_pred",
      "execution_count": null,
      "outputs": []
    },
    {
      "metadata": {
        "trusted": true
      },
      "cell_type": "code",
      "source": "# calculate RMSE\nnp.sqrt(metrics.mean_squared_error(y_test, y_pred))",
      "execution_count": null,
      "outputs": []
    },
    {
      "metadata": {},
      "cell_type": "markdown",
      "source": "### ESTIMATING OUT-OF-SAMPLE ERROR"
    },
    {
      "metadata": {},
      "cell_type": "markdown",
      "source": "- For bagged models, out-of-sample error can be estimated without using **train/test split** or **cross-validation**!\n- On average, each bagged tree uses about **two-thirds** of the observations. For each tree, the **remaining observations** are called \"out-of-bag\" observations."
    },
    {
      "metadata": {
        "trusted": true
      },
      "cell_type": "code",
      "source": "# show the first bootstrap sample\nsamples[0]",
      "execution_count": null,
      "outputs": []
    },
    {
      "metadata": {
        "trusted": true
      },
      "cell_type": "code",
      "source": "# show the \"in-bag\" observations for each sample\nfor sample in samples:\n    print (set(sample))",
      "execution_count": null,
      "outputs": []
    },
    {
      "metadata": {
        "trusted": true
      },
      "cell_type": "code",
      "source": "# show the \"out-of-bag\" observations for each sample\nfor sample in samples:\n    print (sorted(set(range(14)) - set(sample)))",
      "execution_count": null,
      "outputs": []
    },
    {
      "metadata": {},
      "cell_type": "markdown",
      "source": "### HOW TO CALCULATE **\"OUT-OF-BAG ERROR\":**"
    },
    {
      "metadata": {},
      "cell_type": "markdown",
      "source": "1. For every observation in the training data, predict its response value using **only** the trees in which that observation was out-of-bag. Average those predictions (for regression) or take a majority vote (for classification).\n2. Compare all predictions to the actual response values in order to compute the out-of-bag error.\n\nWhen B is sufficiently large, the **out-of-bag error** is an accurate estimate of **out-of-sample error (test)**."
    },
    {
      "metadata": {
        "trusted": true
      },
      "cell_type": "code",
      "source": "# compute the out-of-bag R-squared score for B=500\nbagreg.oob_score_",
      "execution_count": null,
      "outputs": []
    },
    {
      "metadata": {},
      "cell_type": "markdown",
      "source": "### ESTIMATING FEATURE IMPORTANCE"
    },
    {
      "metadata": {},
      "cell_type": "markdown",
      "source": "Bagging increases **predictive accuracy**, but decreases **model interpretability** because it's no longer possible to visualize the tree to understand the importance of each feature.\n\nHowever, we can still obtain an overall summary of **feature importance** from bagged models:\n- **Bagged regression trees:** calculate the total amount that **MSE** is decreased due to splits over a given feature, averaged over all trees\n- **Bagged classification trees:** calculate the total amount that **Gini index** is decreased due to splits over a given feature, averaged over all trees"
    },
    {
      "metadata": {},
      "cell_type": "markdown",
      "source": "## PART 3: RANDOM FORESTS"
    },
    {
      "metadata": {},
      "cell_type": "markdown",
      "source": "Random Forests is a **slight variation of bagged trees** that has even better performance:\n- Exactly like bagging, we create an ensemble of decision trees using bootstrapped samples of the training set.\n- However, when building each tree, each time a split is considered, a **random sample of m features** is chosen as split candidates from the **full set of p features**. The split is only allowed to use **one of those m features**.\n    - A new random sample of features is chosen for **every single tree at every single split**.\n    - For **classification**, m is typically chosen to be the square root of p.\n    - For **regression**, m is typically chosen to be somewhere between p/3 and p."
    },
    {
      "metadata": {},
      "cell_type": "markdown",
      "source": "What's the point?\n- Suppose there is **one very strong feature** in the data set. When using bagged trees, most of the trees will use that feature as the top split, resulting in an ensemble of similar trees that are **highly correlated**.\n- Averaging highly correlated quantities does not significantly reduce variance (which is the entire goal of bagging).\n- By randomly leaving out candidate features from each split, **Random Forests \"decorrelates\" the trees**, such that the averaging process can reduce the variance of the resulting model."
    },
    {
      "metadata": {},
      "cell_type": "markdown",
      "source": "## PART 4: COMPARING DECISION TREES AND RANDOM FORESTS"
    },
    {
      "metadata": {},
      "cell_type": "markdown",
      "source": "### EXPLORING AND PREPARING The DATA"
    },
    {
      "metadata": {
        "trusted": true
      },
      "cell_type": "code",
      "source": "# read in the baseball salary data\nhitters = pd.read_csv('../data/hitters.csv')\nhitters.head()",
      "execution_count": null,
      "outputs": []
    },
    {
      "metadata": {
        "trusted": true
      },
      "cell_type": "code",
      "source": "# show a cross-tabulation of League and NewLeague\npd.crosstab(hitters.League, hitters.NewLeague)",
      "execution_count": null,
      "outputs": []
    },
    {
      "metadata": {
        "trusted": true
      },
      "cell_type": "code",
      "source": "hitters.shape",
      "execution_count": null,
      "outputs": []
    },
    {
      "metadata": {
        "trusted": true
      },
      "cell_type": "code",
      "source": "# check for missing values\nhitters.isnull().sum()",
      "execution_count": null,
      "outputs": []
    },
    {
      "metadata": {
        "trusted": true
      },
      "cell_type": "code",
      "source": "# remove rows with missing values\nhitters.dropna(inplace=True)",
      "execution_count": null,
      "outputs": []
    },
    {
      "metadata": {
        "trusted": true
      },
      "cell_type": "code",
      "source": "# factorize encodes categorical values as integers\npd.factorize(hitters.League)",
      "execution_count": null,
      "outputs": []
    },
    {
      "metadata": {
        "trusted": true
      },
      "cell_type": "code",
      "source": "hitters.Division",
      "execution_count": null,
      "outputs": []
    },
    {
      "metadata": {
        "trusted": true
      },
      "cell_type": "code",
      "source": "pd.factorize(hitters.Division)",
      "execution_count": null,
      "outputs": []
    },
    {
      "metadata": {
        "trusted": true
      },
      "cell_type": "code",
      "source": "# convert to dummy variables\nhitters['League'] = pd.factorize(hitters.League)[0]\nhitters['Division'] = pd.factorize(hitters.Division)[0]\nhitters['NewLeague'] = pd.factorize(hitters.NewLeague)[0]\nhitters.head()",
      "execution_count": null,
      "outputs": []
    },
    {
      "metadata": {
        "trusted": true
      },
      "cell_type": "code",
      "source": "%matplotlib inline",
      "execution_count": null,
      "outputs": []
    },
    {
      "metadata": {
        "trusted": true
      },
      "cell_type": "code",
      "source": "# histogram of Salary\nhitters.Salary.plot(kind='hist')",
      "execution_count": null,
      "outputs": []
    },
    {
      "metadata": {
        "trusted": true
      },
      "cell_type": "code",
      "source": "# scatter plot of Years versus Hits colored by Salary\nhitters.plot(kind='scatter', x='Years', y='Hits', c='Salary', colormap='jet', xlim=(0, 25), ylim=(0, 250), figsize=(12, 8))",
      "execution_count": null,
      "outputs": []
    },
    {
      "metadata": {
        "trusted": true
      },
      "cell_type": "code",
      "source": "hitters.columns",
      "execution_count": null,
      "outputs": []
    },
    {
      "metadata": {
        "trusted": true
      },
      "cell_type": "code",
      "source": "# exclude columns which represent career statistics\n#feature_cols = hitters.columns[hitters.columns.str.startswith('C') == False]\nfeature_cols = ['AtBat', 'Hits', 'HmRun', 'Runs', 'RBI', 'Walks', 'Years', 'League', 'Division', 'PutOuts', 'Assists', 'Errors', 'NewLeague']",
      "execution_count": null,
      "outputs": []
    },
    {
      "metadata": {
        "trusted": true
      },
      "cell_type": "code",
      "source": "feature_cols",
      "execution_count": null,
      "outputs": []
    },
    {
      "metadata": {
        "trusted": true
      },
      "cell_type": "code",
      "source": "# define X and y\nX = hitters[feature_cols]\ny = hitters.Salary",
      "execution_count": null,
      "outputs": []
    },
    {
      "metadata": {
        "trusted": true
      },
      "cell_type": "code",
      "source": "y",
      "execution_count": null,
      "outputs": []
    },
    {
      "metadata": {},
      "cell_type": "markdown",
      "source": "### PREDICTING SALARY WITH A DECISION TREE"
    },
    {
      "metadata": {},
      "cell_type": "markdown",
      "source": "- Find the best **max_depth** for a decision tree using cross-validation:"
    },
    {
      "metadata": {
        "trusted": true
      },
      "cell_type": "code",
      "source": "# list of values to try for max_depth\nmax_depth_range = range(1, 21)",
      "execution_count": null,
      "outputs": []
    },
    {
      "metadata": {
        "trusted": true
      },
      "cell_type": "code",
      "source": "# list to store the average RMSE for each value of max_depth\nRMSE_scores = []",
      "execution_count": null,
      "outputs": []
    },
    {
      "metadata": {
        "trusted": true
      },
      "cell_type": "code",
      "source": "# use 10-fold cross-validation with each value of max_depth\nfrom sklearn.model_selection import cross_val_score\nfor depth in max_depth_range:\n    treereg = DecisionTreeRegressor(max_depth=depth, random_state=1)\n    MSE_scores = cross_val_score(treereg, X, y, cv=10, scoring='neg_mean_squared_error')\n    RMSE_scores.append(np.mean(np.sqrt(-MSE_scores)))",
      "execution_count": null,
      "outputs": []
    },
    {
      "metadata": {
        "trusted": true
      },
      "cell_type": "code",
      "source": "list(max_depth_range)",
      "execution_count": null,
      "outputs": []
    },
    {
      "metadata": {
        "trusted": true
      },
      "cell_type": "code",
      "source": "RMSE_scores",
      "execution_count": null,
      "outputs": []
    },
    {
      "metadata": {
        "trusted": true
      },
      "cell_type": "code",
      "source": "# plot max_depth (x-axis) versus RMSE (y-axis)\nimport matplotlib.pyplot as plt\nplt.plot(list(max_depth_range), RMSE_scores)\nplt.xlabel('max_depth')\nplt.ylabel('RMSE (lower is better)')",
      "execution_count": null,
      "outputs": []
    },
    {
      "metadata": {
        "trusted": true
      },
      "cell_type": "code",
      "source": "# show the best RMSE and the corresponding max_depth\nsorted(zip(RMSE_scores, max_depth_range))[0]",
      "execution_count": null,
      "outputs": []
    },
    {
      "metadata": {
        "trusted": true
      },
      "cell_type": "code",
      "source": "# max_depth=2 was best, so fit a tree using that parameter\ntreereg = DecisionTreeRegressor(max_depth=2, random_state=1)\ntreereg.fit(X, y)",
      "execution_count": null,
      "outputs": []
    },
    {
      "metadata": {
        "trusted": true
      },
      "cell_type": "code",
      "source": "# compute feature importances\npd.DataFrame({'feature':feature_cols, 'importance':treereg.feature_importances_}).sort_values('importance')",
      "execution_count": null,
      "outputs": []
    },
    {
      "metadata": {
        "trusted": true
      },
      "cell_type": "code",
      "source": "# create a GraphViz file\nfrom sklearn.tree import export_graphviz\nexport_graphviz(treereg, out_file='hitters_baseball.dot', feature_names=feature_cols)",
      "execution_count": null,
      "outputs": []
    },
    {
      "metadata": {
        "trusted": true
      },
      "cell_type": "code",
      "source": "! dot -Tpng hitters_baseball.dot -o hitters_baseball.png",
      "execution_count": null,
      "outputs": []
    },
    {
      "metadata": {
        "trusted": true
      },
      "cell_type": "code",
      "source": "from IPython.display import Image\nfrom IPython.display import display\n\ndisplay(Image('hitters_baseball.png'))",
      "execution_count": null,
      "outputs": []
    },
    {
      "metadata": {},
      "cell_type": "markdown",
      "source": "### PREDICTING SALARY WITH A RANDOM FOREST"
    },
    {
      "metadata": {
        "trusted": true
      },
      "cell_type": "code",
      "source": "from sklearn.ensemble import RandomForestRegressor\nrfreg = RandomForestRegressor()\nrfreg",
      "execution_count": null,
      "outputs": []
    },
    {
      "metadata": {},
      "cell_type": "markdown",
      "source": "- One important tuning parameter is **n_estimators:** the number of trees that should be grown."
    },
    {
      "metadata": {
        "trusted": true
      },
      "cell_type": "code",
      "source": "# list of values to try for n_estimators\nestimator_range = range(10, 310, 10)",
      "execution_count": null,
      "outputs": []
    },
    {
      "metadata": {
        "trusted": true
      },
      "cell_type": "code",
      "source": "# list to store the average RMSE for each value of n_estimators\nRMSE_scores = []",
      "execution_count": null,
      "outputs": []
    },
    {
      "metadata": {
        "trusted": true
      },
      "cell_type": "code",
      "source": "# use 5-fold cross-validation with each value of n_estimators\nfor estimator in estimator_range:\n    rfreg = RandomForestRegressor(n_estimators=estimator, random_state=1)\n    MSE_scores = cross_val_score(rfreg, X, y, cv=5, scoring='neg_mean_squared_error')\n    RMSE_scores.append(np.mean(np.sqrt(-MSE_scores)))",
      "execution_count": null,
      "outputs": []
    },
    {
      "metadata": {
        "trusted": true
      },
      "cell_type": "code",
      "source": "RMSE_scores",
      "execution_count": null,
      "outputs": []
    },
    {
      "metadata": {
        "trusted": true
      },
      "cell_type": "code",
      "source": "# plot n_estimators (x-axis) versus RMSE (y-axis)\nplt.plot(estimator_range, RMSE_scores)\nplt.xlabel('n_estimators')\nplt.ylabel('RMSE (lower is better)')",
      "execution_count": null,
      "outputs": []
    },
    {
      "metadata": {},
      "cell_type": "markdown",
      "source": "**n_estimators** should be a large enough value that the error seems to have \"stabilized\"."
    },
    {
      "metadata": {},
      "cell_type": "markdown",
      "source": "The other important tuning parameter is **max_features:** the number of features that should be considered at each split."
    },
    {
      "metadata": {
        "trusted": true
      },
      "cell_type": "code",
      "source": "# list of values to try for max_features\nfeature_range = range(1, len(feature_cols)+1)",
      "execution_count": null,
      "outputs": []
    },
    {
      "metadata": {
        "trusted": true
      },
      "cell_type": "code",
      "source": "# list to store the average RMSE for each value of max_features\nRMSE_scores = []",
      "execution_count": null,
      "outputs": []
    },
    {
      "metadata": {
        "trusted": true
      },
      "cell_type": "code",
      "source": "# use 10-fold cross-validation with each value of max_features\nfor feature in feature_range:\n    rfreg = RandomForestRegressor(n_estimators=65, max_features=feature, random_state=1)\n    MSE_scores = cross_val_score(rfreg, X, y, cv=10, scoring='neg_mean_squared_error')\n    RMSE_scores.append(np.mean(np.sqrt(-MSE_scores)))",
      "execution_count": null,
      "outputs": []
    },
    {
      "metadata": {
        "trusted": true
      },
      "cell_type": "code",
      "source": "RMSE_scores",
      "execution_count": null,
      "outputs": []
    },
    {
      "metadata": {
        "trusted": true
      },
      "cell_type": "code",
      "source": "# plot max_features (x-axis) versus RMSE (y-axis)\nplt.plot(feature_range, RMSE_scores)\nplt.xlabel('max_features')\nplt.ylabel('RMSE (lower is better)')",
      "execution_count": null,
      "outputs": []
    },
    {
      "metadata": {
        "trusted": true
      },
      "cell_type": "code",
      "source": "# show the best RMSE and the corresponding max_features\nsorted(zip(RMSE_scores, feature_range))[0]",
      "execution_count": null,
      "outputs": []
    },
    {
      "metadata": {
        "trusted": true
      },
      "cell_type": "code",
      "source": "# max_features=10 was best, so fit a Random Forest using that parameter\nrfreg = RandomForestRegressor(n_estimators=65, max_features=10, oob_score=True, random_state=1)\nrfreg.fit(X, y)",
      "execution_count": null,
      "outputs": []
    },
    {
      "metadata": {
        "trusted": true
      },
      "cell_type": "code",
      "source": "# compute feature importances\npd.DataFrame({'feature':feature_cols, 'importance':rfreg.feature_importances_}).sort_values('importance')",
      "execution_count": null,
      "outputs": []
    },
    {
      "metadata": {
        "trusted": true
      },
      "cell_type": "code",
      "source": "# compute the out-of-bag R-squared score\nrfreg.oob_score_",
      "execution_count": null,
      "outputs": []
    },
    {
      "metadata": {},
      "cell_type": "markdown",
      "source": "### REDUCE X TO ITS MOST IMPORTANT FEATURES"
    },
    {
      "metadata": {
        "trusted": true
      },
      "cell_type": "code",
      "source": "# check the shape of X\nX.shape",
      "execution_count": null,
      "outputs": []
    },
    {
      "metadata": {
        "trusted": true
      },
      "cell_type": "code",
      "source": "from sklearn.feature_selection import SelectFromModel",
      "execution_count": null,
      "outputs": []
    },
    {
      "metadata": {
        "trusted": true
      },
      "cell_type": "code",
      "source": "# set a threshold for which features to include\nrfreg_sfm = SelectFromModel(rfreg, threshold=0.1, prefit=True)\nprint (rfreg_sfm.transform(X).shape)",
      "execution_count": null,
      "outputs": []
    },
    {
      "metadata": {
        "trusted": true
      },
      "cell_type": "code",
      "source": "# set a threshold for which features to include\nrfreg_sfm = SelectFromModel(rfreg, threshold='mean', prefit=True)\nprint (rfreg_sfm.transform(X).shape)",
      "execution_count": null,
      "outputs": []
    },
    {
      "metadata": {
        "trusted": true
      },
      "cell_type": "code",
      "source": "# set a threshold for which features to include\nrfreg_sfm = SelectFromModel(rfreg, threshold='median', prefit=True)\nprint (rfreg_sfm.transform(X).shape)",
      "execution_count": null,
      "outputs": []
    },
    {
      "metadata": {
        "trusted": true
      },
      "cell_type": "code",
      "source": "# create a new feature matrix that only include important features\nrfreg_sfm = SelectFromModel(rfreg, threshold='mean', prefit=True)\nX_important = rfreg_sfm.transform(X)",
      "execution_count": null,
      "outputs": []
    },
    {
      "metadata": {
        "trusted": true
      },
      "cell_type": "code",
      "source": "X_important",
      "execution_count": null,
      "outputs": []
    },
    {
      "metadata": {
        "trusted": true
      },
      "cell_type": "code",
      "source": "rfreg_sfm = SelectFromModel(rfreg, threshold=0.10, prefit=True)\nX_important = rfreg_sfm.transform(X)",
      "execution_count": null,
      "outputs": []
    },
    {
      "metadata": {
        "trusted": true
      },
      "cell_type": "code",
      "source": "X_important",
      "execution_count": null,
      "outputs": []
    },
    {
      "metadata": {
        "trusted": true
      },
      "cell_type": "code",
      "source": "X_important.shape",
      "execution_count": null,
      "outputs": []
    },
    {
      "metadata": {
        "trusted": true
      },
      "cell_type": "code",
      "source": "# check the RMSE for a Random Forest that only uses important features\nrfreg = RandomForestRegressor(n_estimators=65, max_features=4, random_state=1)\nscores = cross_val_score(rfreg, X_important, y, cv=10, scoring='neg_mean_squared_error')\nnp.mean(np.sqrt(-scores))",
      "execution_count": null,
      "outputs": []
    },
    {
      "metadata": {
        "collapsed": true
      },
      "cell_type": "markdown",
      "source": "## PART 5: CONCLUSION"
    },
    {
      "metadata": {},
      "cell_type": "markdown",
      "source": "### Comparing Random Forests with Decision Trees\n\n**Advantages of Random Forests:**\n\n- Performance is competitive with the best supervised learning methods\n- Provides a more reliable estimate of feature importance\n- Allows you to estimate out-of-sample error without using train/test split or cross-validation\n\n**Disadvantages of Random Forests:**\n\n- Less interpretable\n- Slower to train\n- Slower to predict\n\n### Comparing \"manual\" ensembling with a single model approach\n\n**Advantages of ensembling:**\n\n- Increases predictive accuracy\n- Easy to get started\n\n**Disadvantages of ensembling:**\n\n- Decreases interpretability\n- Takes longer to train\n- Takes longer to predict\n- More complex to automate and maintain\n- Small gains in accuracy may not be worth the added complexity"
    },
    {
      "metadata": {
        "trusted": true
      },
      "cell_type": "code",
      "source": "",
      "execution_count": null,
      "outputs": []
    }
  ],
  "metadata": {
    "anaconda-cloud": {},
    "kernelspec": {
      "name": "python3",
      "display_name": "Python 3",
      "language": "python"
    },
    "language_info": {
      "mimetype": "text/x-python",
      "nbconvert_exporter": "python",
      "name": "python",
      "pygments_lexer": "ipython3",
      "version": "3.5.4",
      "file_extension": ".py",
      "codemirror_mode": {
        "version": 3,
        "name": "ipython"
      }
    }
  },
  "nbformat": 4,
  "nbformat_minor": 1
}