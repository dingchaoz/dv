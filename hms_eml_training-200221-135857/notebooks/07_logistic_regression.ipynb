{
  "cells": [
    {
      "metadata": {},
      "cell_type": "markdown",
      "source": "# LOGISTIC REGRESSION"
    },
    {
      "metadata": {},
      "cell_type": "markdown",
      "source": "## AGENDA\n1. Refresh your memory on how to do linear regression in scikit-learn\n2. Attempt to use linear regression for classification\n3. Show you why logistic regression is a better alternative for classification\n4. Brief overview of probability, odds, e, log, and log-odds\n5. Explain the form of logistic regression\n6. Compare logistic regression with other models"
    },
    {
      "metadata": {},
      "cell_type": "markdown",
      "source": "## PART 1: PREDICTING A CATEGORICAL RESPONSE"
    },
    {
      "metadata": {
        "scrolled": true,
        "trusted": true
      },
      "cell_type": "code",
      "source": "%matplotlib inline\nimport matplotlib.pyplot as plt\nimport numpy as np\nimport pandas as pd\n\nimport warnings\nwarnings.filterwarnings(\"ignore\", category=FutureWarning)",
      "execution_count": null,
      "outputs": []
    },
    {
      "metadata": {
        "scrolled": true,
        "trusted": true
      },
      "cell_type": "code",
      "source": "# glass identification dataset\nurl = 'http://archive.ics.uci.edu/ml/machine-learning-databases/glass/glass.data'\ncol_names = ['id','ri','na','mg','al','si','k','ca','ba','fe','glass_type']\nglass = pd.read_csv(url, names=col_names, index_col='id')\nglass['assorted'] = glass.glass_type.map({1:0, 2:0, 3:0, 4:0, 5:1, 6:1, 7:1})\nglass.head()",
      "execution_count": null,
      "outputs": []
    },
    {
      "metadata": {},
      "cell_type": "markdown",
      "source": "## PART 2: USING LOGISTIC REGRESSION"
    },
    {
      "metadata": {
        "scrolled": true,
        "trusted": true
      },
      "cell_type": "code",
      "source": "# Logistic regression can do what we just did:\n# fit a linear regression model and store the class predictions\nfrom sklearn.linear_model import LogisticRegression\nlogreg = LogisticRegression(C=1e9)\nfeature_cols = ['al']\nX = glass[feature_cols]\ny = glass.assorted\nlogreg.fit(X, y)\nassorted_pred_class = logreg.predict(X)",
      "execution_count": null,
      "outputs": []
    },
    {
      "metadata": {
        "trusted": true
      },
      "cell_type": "code",
      "source": "LogisticRegression?",
      "execution_count": null,
      "outputs": []
    },
    {
      "metadata": {
        "trusted": true
      },
      "cell_type": "code",
      "source": "glass.shape",
      "execution_count": null,
      "outputs": []
    },
    {
      "metadata": {
        "scrolled": true,
        "trusted": true
      },
      "cell_type": "code",
      "source": "# print the class predictions\nassorted_pred_class",
      "execution_count": null,
      "outputs": []
    },
    {
      "metadata": {
        "trusted": true
      },
      "cell_type": "code",
      "source": "glass.head()",
      "execution_count": null,
      "outputs": []
    },
    {
      "metadata": {
        "scrolled": true,
        "trusted": true
      },
      "cell_type": "code",
      "source": "# add predicted class to DataFrame\nglass['assorted_pred_class'] = assorted_pred_class",
      "execution_count": null,
      "outputs": []
    },
    {
      "metadata": {
        "trusted": true
      },
      "cell_type": "code",
      "source": "glass.head()",
      "execution_count": null,
      "outputs": []
    },
    {
      "metadata": {
        "scrolled": true,
        "trusted": true
      },
      "cell_type": "code",
      "source": "# sort DataFrame by al\nglass.sort_values('al', inplace=True)",
      "execution_count": null,
      "outputs": []
    },
    {
      "metadata": {
        "scrolled": true,
        "trusted": true
      },
      "cell_type": "code",
      "source": "# plot the class predictions again\nplt.scatter(glass.al, glass.assorted)\nplt.plot(glass.al, glass.assorted_pred_class, color='red')",
      "execution_count": null,
      "outputs": []
    },
    {
      "metadata": {},
      "cell_type": "markdown",
      "source": "### What if we wanted the **predicted probabilities** instead of just the **class predictions**, to understand how confident we are in a given prediction?"
    },
    {
      "metadata": {
        "scrolled": false,
        "trusted": true
      },
      "cell_type": "code",
      "source": "logreg.predict_proba(X)",
      "execution_count": null,
      "outputs": []
    },
    {
      "metadata": {
        "scrolled": true,
        "trusted": true
      },
      "cell_type": "code",
      "source": "# store the predicted probabilites of class 1\nassorted_pred_prob = logreg.predict_proba(X)[:, 1]",
      "execution_count": null,
      "outputs": []
    },
    {
      "metadata": {
        "scrolled": true,
        "trusted": true
      },
      "cell_type": "code",
      "source": "assorted_pred_prob",
      "execution_count": null,
      "outputs": []
    },
    {
      "metadata": {
        "trusted": true
      },
      "cell_type": "code",
      "source": "glass['assorted_pred_prob'] = sorted(assorted_pred_prob)",
      "execution_count": null,
      "outputs": []
    },
    {
      "metadata": {
        "scrolled": true,
        "trusted": true
      },
      "cell_type": "code",
      "source": "# plot the predicted probabilities\nplt.scatter(glass.al, glass.assorted)\nplt.plot(glass.al, glass.assorted_pred_prob, color='red')",
      "execution_count": null,
      "outputs": []
    },
    {
      "metadata": {
        "trusted": true
      },
      "cell_type": "code",
      "source": "# examine some example predictions\nprint (logreg.predict([[1]]))\nprint (logreg.predict([[2]]))\nprint (logreg.predict([[3]]))",
      "execution_count": null,
      "outputs": []
    },
    {
      "metadata": {
        "scrolled": true,
        "trusted": true
      },
      "cell_type": "code",
      "source": "# examine some example predictions\nprint (logreg.predict_proba([[1]]))\nprint (logreg.predict_proba([[2]]))\nprint (logreg.predict_proba([[3]]))",
      "execution_count": null,
      "outputs": []
    },
    {
      "metadata": {},
      "cell_type": "markdown",
      "source": "#### What is this? \n* The first column indicates the predicted probability of **class 0**, and the second column indicates the predicted probability of **class 1**."
    },
    {
      "metadata": {},
      "cell_type": "markdown",
      "source": "## PART 3: PROBABILITY, ODDS, e, LOG, LOG-ODDS\n\n\n\n## LOGISTIC REGRESSION ANALYSIS: UNDERSTANDING ODDS AND PROBABILITY\n\nProbability and odds measure the same thing: **the likelihood of a specific outcome**.\n\nPeople use the terms odds and probability interchangeably in casual usage, but that is unfortunate. It just creates confusion because they are not equivalent.\n\nThey measure the same thing on different scales. Imagine how confusing it would be if people used degrees Celsius and degrees Fahrenheit interchangeably. “It’s going to be 35 degrees today” could really make you dress the wrong way.\n\nIn measuring the likelihood of any outcome, we need to know two things: how many times something happened and how many times it could have happened, or equivalently, how many times it didn’t. The outcome of interest is called a success, whether it’s a good outcome or not.\n\nThe other outcome is a failure. Each time one of the outcomes could occur is called a trial. Since each trial must end in success or failure, number of successes and number of failures adds up to total number of trials.\n\nProbability is the number of times success occurred compared to the total number of trials.\n\nOdds are the number of times success occurred compared to the number of times failure occurred.\n\nFor example, to predict the likelihood of accidents at a particular intersection, each car that goes through the intersection is considered a trial. Each trial has one of two outcomes: accident or safe passage. If the outcome we’re most interested in modeling is an accident, that is a success (no matter how morbid it sounds).\n\n**Probability(success)** = number of successes/total number of trials\n\n**Odds(success)** = number of successes/number of failures\n\nOdds are often written as:\n\n    `Number of successes:1 failure`\n\n    which is read as the number of successes for every 1 failure. But often the :1 is dropped.\n\nYou will see a lot of researchers get stuck when learning logistic regression because they are not used to thinking of likelihood on an odds scale.\n\n- Equal odds are 1. 1 success for every 1 failure. 1:1\n- Equal probabilities are .5. 1 success for every 2 trials.\n\n\n- Odds can range from 0 to infinity. \n- Odds greater than 1 indicates success is more likely than failure. \n- Odds less than 1 indicates failure is more likely than success.\n\n\n- Probability can range from 0 to 1. \n- Probability greater than .5 indicates success is more likely than failure. \n- Probability less than .5 indicates failure is more likely than success.\n\n\n#### THE EXAMPLE: \n\nIn the last month, data from a particular intersection indicate that of the 1,354 cars that drove through it, 72 got into an accident.\n\n- 72 Successes = Accident\n- 1282 Failures = Safe Passage (1,354 – 72)\n\n\n- Failures = Total – Successes\n\n\n- Pr(Accident) = 72/1354 = .053\n- Pr(Safe Passage) = 1282/1354 = .947\n\n\n- Odds(Accident) = 72/1282 = .056\n- Odds(Safety) = 1282/72 = 17.87\n\n\nNow get out your calculator, because you’ll see how these relate to each other.\n\n- Odds(Accident) = Pr(Accident)/Pr(Safety) = .053/.947"
    },
    {
      "metadata": {},
      "cell_type": "markdown",
      "source": "# $$probability = \\frac {one\\ outcome} {all\\ outcomes}$$\n# $$odds = \\frac {one\\ outcome} {all\\ other\\ outcomes}$$"
    },
    {
      "metadata": {},
      "cell_type": "markdown",
      "source": "#### Examples:\n- Dice roll of 1: probability = 1/6, odds = 1/5\n- Even dice roll: probability = 3/6, odds = 3/3 = 1\n- Dice roll less than 5: probability = 4/6, odds = 4/2 = 2"
    },
    {
      "metadata": {},
      "cell_type": "markdown",
      "source": "# $$odds = \\frac {probability} {1 - probability}$$\n# $$probability = \\frac {odds} {1 + odds}$$"
    },
    {
      "metadata": {
        "scrolled": true,
        "trusted": true
      },
      "cell_type": "code",
      "source": "# create a table of probability versus odds\ntable = pd.DataFrame({'probability':[0.1, 0.2, 0.25, 0.5, 0.6, 0.8, 0.9]})\ntable['odds'] = table.probability/(1 - table.probability)\ntable",
      "execution_count": null,
      "outputs": []
    },
    {
      "metadata": {},
      "cell_type": "markdown",
      "source": "#### What is **e**? It is the base rate of growth shared by all continually growing processes:"
    },
    {
      "metadata": {
        "scrolled": true,
        "trusted": true
      },
      "cell_type": "code",
      "source": "# exponential function: e^1\nnp.exp(1)",
      "execution_count": null,
      "outputs": []
    },
    {
      "metadata": {},
      "cell_type": "markdown",
      "source": "#### What is a **(natural) log**? It gives you the time needed to reach a certain level of growth:"
    },
    {
      "metadata": {
        "scrolled": true,
        "trusted": true
      },
      "cell_type": "code",
      "source": "# time needed to grow 1 unit to 2.718 units\nnp.log(2.718)",
      "execution_count": null,
      "outputs": []
    },
    {
      "metadata": {},
      "cell_type": "markdown",
      "source": "* It is also the **inverse** of the exponential function:"
    },
    {
      "metadata": {
        "scrolled": true,
        "trusted": true
      },
      "cell_type": "code",
      "source": "np.log(np.exp(1))",
      "execution_count": null,
      "outputs": []
    },
    {
      "metadata": {
        "scrolled": true,
        "trusted": true
      },
      "cell_type": "code",
      "source": "# add log-odds to the table\ntable['logodds'] = np.log(table.odds)\ntable",
      "execution_count": null,
      "outputs": []
    },
    {
      "metadata": {},
      "cell_type": "markdown",
      "source": "## PART 4: WHAT IS LOGISTIC REGRESSION?"
    },
    {
      "metadata": {},
      "cell_type": "markdown",
      "source": "### **Linear regression:** continuous response is modeled as a linear combination of the features:\n# $$y = \\beta_0 + \\beta_1x$$"
    },
    {
      "metadata": {},
      "cell_type": "markdown",
      "source": "### **Logistic regression:** log-odds of a categorical response being \"true\" (1) is modeled as a linear combination of the features:\n# $$\\log \\left({p\\over 1-p}\\right) = \\beta_0 + \\beta_1x$$"
    },
    {
      "metadata": {},
      "cell_type": "markdown",
      "source": "* This is called the **logit function**."
    },
    {
      "metadata": {},
      "cell_type": "markdown",
      "source": "#### Probability is sometimes written as pi:\n# $$\\log \\left({\\pi\\over 1-\\pi}\\right) = \\beta_0 + \\beta_1x$$"
    },
    {
      "metadata": {},
      "cell_type": "markdown",
      "source": "#### The equation can be rearranged into the **logistic function**:\n# $$\\pi = \\frac{e^{\\beta_0 + \\beta_1x}} {1 + e^{\\beta_0 + \\beta_1x}}$$"
    },
    {
      "metadata": {},
      "cell_type": "markdown",
      "source": "#### In other words:\n- Logistic regression outputs the **probabilities of a specific class**\n- Those probabilities can be converted into **class predictions**"
    },
    {
      "metadata": {},
      "cell_type": "markdown",
      "source": "#### The **logistic function** has some nice properties:\n- Takes on an \"s\" shape\n- Output is bounded by 0 and 1"
    },
    {
      "metadata": {},
      "cell_type": "markdown",
      "source": "#### Notes:\n- **Multinomial logistic regression** is used when there are more than 2 classes.\n- Coefficients are estimated using **maximum likelihood estimation**, meaning that we choose parameters that maximize the likelihood of the observed data."
    },
    {
      "metadata": {},
      "cell_type": "markdown",
      "source": "## PART 5: COMPARING LOGISTIC REGRESSION WITH OTHER OTHER MODELS"
    },
    {
      "metadata": {},
      "cell_type": "markdown",
      "source": "### Advantages of logistic regression:\n- Highly interpretable (if you remember how)\n- Model training and prediction are fast\n- No tuning is required (excluding regularization)\n- Features don't need scaling\n- Can perform well with a small number of observations\n- Outputs well-calibrated predicted probabilities\n\n### Disadvantages of logistic regression:\n- Presumes a linear relationship between the features and the log-odds of the response\n- Performance is (generally) not competitive with the best supervised learning methods\n- Sensitive to irrelevant features\n- Can't automatically learn feature interactions"
    },
    {
      "metadata": {},
      "cell_type": "markdown",
      "source": "# REFERENCES\n\n1. [Explaining Logistic Regression](http://www.theanalysisfactor.com/explaining-logistic-regression/)\n2. [Why use Odds Rations](http://www.theanalysisfactor.com/why-use-odds-ratios/)\n3. [The Intuitive Guide to Exponential Functions & e](https://betterexplained.com/articles/an-intuitive-guide-to-exponential-functions-e/)\n4. [Demystifying the Natural Logarithm](https://betterexplained.com/articles/demystifying-the-natural-logarithm-ln/)"
    }
  ],
  "metadata": {
    "anaconda-cloud": {},
    "kernelspec": {
      "name": "python3",
      "display_name": "Python 3",
      "language": "python"
    },
    "language_info": {
      "mimetype": "text/x-python",
      "nbconvert_exporter": "python",
      "name": "python",
      "pygments_lexer": "ipython3",
      "version": "3.5.4",
      "file_extension": ".py",
      "codemirror_mode": {
        "version": 3,
        "name": "ipython"
      }
    }
  },
  "nbformat": 4,
  "nbformat_minor": 1
}